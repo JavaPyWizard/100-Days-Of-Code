{
 "cells": [
  {
   "cell_type": "code",
   "execution_count": 1,
   "id": "b7e12943-71bb-4301-a057-b8cbb4525477",
   "metadata": {},
   "outputs": [],
   "source": [
    "import subprocess\n",
    "from datetime import datetime\n",
    "from IPython import get_ipython\n",
    "\n",
    "# --- CONFIGURATION ---\n",
    "NOTEBOOK_NAME = \"Practice_DF_Essentials.ipynb\"\n",
    "PLUGIN_NAME = \"jupyterlab/4.0.0\"\n",
    "LANGUAGE = \"Python\"\n",
    "# ----------------------\n",
    "\n",
    "def log_to_wakatime():\n",
    "    timestamp = str(datetime.utcnow().timestamp())\n",
    "    result = subprocess.run([\n",
    "        \"wakatime-cli\",\n",
    "        \"--entity\", NOTEBOOK_NAME,\n",
    "        \"--entity-type\", \"file\",\n",
    "        \"--plugin\", PLUGIN_NAME,\n",
    "        \"--language\", LANGUAGE,\n",
    "        \"--write\",\n",
    "        \"--time\", timestamp\n",
    "    ], capture_output=True, text=True)\n",
    "\n",
    "    if result.returncode != 0:\n",
    "        print(\"❌ WakaTime CLI Error:\")\n",
    "        print(\"STDOUT:\", result.stdout)\n",
    "        print(\"STDERR:\", result.stderr)\n",
    "    else:\n",
    "        print(\"✅ WakaTime heartbeat sent at\", timestamp)\n",
    "\n",
    "def on_cell_run(execution_info):\n",
    "    log_to_wakatime()\n",
    "\n",
    "# Clear broken old handlers (if rerunning)\n",
    "ip = get_ipython()\n",
    "for cb in list(ip.events.callbacks['pre_run_cell']):\n",
    "    if cb.__name__ == \"<lambda>\":\n",
    "        ip.events.unregister('pre_run_cell', cb)\n",
    "\n",
    "ip.events.register('pre_run_cell', on_cell_run)"
   ]
  },
  {
   "cell_type": "markdown",
   "id": "3d0e8b0f-993c-4489-8abd-b50fe90998eb",
   "metadata": {},
   "source": [
    "# Student Data Management System\n",
    "\n",
    "## Tasks\n",
    "\n",
    "1. Create a DataFrame with columns: `Name`, `Age`, `Gender`, `Marks`, `City`.\n",
    "\n",
    "2. Add at least 5 student records.\n",
    "\n",
    "3. Display the first 3 rows.\n",
    "\n",
    "4. Display the last 2 rows.\n",
    "\n",
    "5. Show the shape of the DataFrame.\n",
    "\n",
    "6. Show summary statistics of the DataFrame.\n",
    "\n",
    "7. Display the `Name` column.\n",
    "\n",
    "8. Display `Name` and `Marks` columns.\n",
    "\n",
    "9. Show students with marks greater than 85.\n",
    "\n",
    "10. Show students from the city \"Prayagraj\".\n",
    "\n",
    "11. Add a new column `Result` with values based on marks.\n",
    "\n",
    "12. Convert the `Age` column to float.\n",
    "\n",
    "13. Rename column `Marks` to `Score`.\n",
    "\n",
    "14. Drop the column `City`.\n",
    "\n",
    "15. Export the final DataFrame to a CSV file."
   ]
  },
  {
   "cell_type": "code",
   "execution_count": 2,
   "id": "a108bcb5-3e15-498c-a288-5c15a0e6891a",
   "metadata": {},
   "outputs": [
    {
     "name": "stdout",
     "output_type": "stream",
     "text": [
      "✅ WakaTime heartbeat sent at 1752334962.355334\n"
     ]
    }
   ],
   "source": [
    "import pandas as pd"
   ]
  },
  {
   "cell_type": "code",
   "execution_count": 3,
   "id": "fa85ca55-1b0d-4a4c-944d-60063ff39b9e",
   "metadata": {},
   "outputs": [
    {
     "name": "stdout",
     "output_type": "stream",
     "text": [
      "✅ WakaTime heartbeat sent at 1752334962.695208\n",
      "Empty DataFrame\n",
      "Columns: [Name, Age, Gender, Marks, City]\n",
      "Index: []\n"
     ]
    }
   ],
   "source": [
    "df = pd.DataFrame(columns=[\"Name\", \"Age\", \"Gender\", \"Marks\", \"City\"])\n",
    "print(df)"
   ]
  },
  {
   "cell_type": "code",
   "execution_count": 4,
   "id": "1418b152-d9d9-4e2f-8b8e-06f8c850328b",
   "metadata": {},
   "outputs": [
    {
     "name": "stdout",
     "output_type": "stream",
     "text": [
      "✅ WakaTime heartbeat sent at 1752334962.7481\n",
      "       Name Age Gender Marks       City\n",
      "0  Divyansh  20      M    86  Prayagraj\n",
      "1   Swapnil  20      M    80  Prayagraj\n",
      "2   Vaibhav  20      M    81  Prayagraj\n",
      "3   Sauhard  20      M    89  Rishikesh\n",
      "4     Manan  20      M    82  Bharatpur\n",
      "5     Harsh  20      M    81      Buxar\n"
     ]
    }
   ],
   "source": [
    "data=[\n",
    "    {\"Name\":\"Divyansh\", \"Age\":20, \"Gender\":\"M\", \"Marks\":86, \"City\":\"Prayagraj\"},\n",
    "    {\"Name\":\"Swapnil\", \"Age\":20, \"Gender\":\"M\", \"Marks\":80, \"City\":\"Prayagraj\"},\n",
    "    {\"Name\":\"Vaibhav\", \"Age\":20, \"Gender\":\"M\", \"Marks\":81, \"City\":\"Prayagraj\"},\n",
    "    {\"Name\":\"Sauhard\", \"Age\":20, \"Gender\":\"M\", \"Marks\":89, \"City\":\"Rishikesh\"},\n",
    "    {\"Name\":\"Manan\", \"Age\":20, \"Gender\":\"M\", \"Marks\":82, \"City\":\"Bharatpur\"},\n",
    "    {\"Name\":\"Harsh\", \"Age\":20, \"Gender\":\"M\", \"Marks\":81, \"City\":\"Buxar\"}\n",
    "]\n",
    "\n",
    "df = pd.concat([df,pd.DataFrame(data)], ignore_index=False) \n",
    "print(df)"
   ]
  },
  {
   "cell_type": "markdown",
   "id": "4fe1d825-beec-44d8-95e4-a6a9e70ed041",
   "metadata": {},
   "source": [
    "### ```ignore_index=True``` resets the index after adding rows to avoid duplicates and maintain clean sequential indexing\n"
   ]
  },
  {
   "cell_type": "code",
   "execution_count": 5,
   "id": "dc127a17-a81f-43cd-be96-69e20dc89ce9",
   "metadata": {},
   "outputs": [
    {
     "name": "stdout",
     "output_type": "stream",
     "text": [
      "✅ WakaTime heartbeat sent at 1752334962.801299\n",
      "First 3 rows:\n",
      "        Name Age Gender Marks       City\n",
      "0  Divyansh  20      M    86  Prayagraj\n",
      "1   Swapnil  20      M    80  Prayagraj\n",
      "2   Vaibhav  20      M    81  Prayagraj\n"
     ]
    }
   ],
   "source": [
    "print(\"First 3 rows:\\n\", df.head(3))"
   ]
  },
  {
   "cell_type": "code",
   "execution_count": 6,
   "id": "62b153f7-6ab6-42be-8b14-1a007f7fc7e5",
   "metadata": {},
   "outputs": [
    {
     "name": "stdout",
     "output_type": "stream",
     "text": [
      "✅ WakaTime heartbeat sent at 1752334962.852009\n",
      "First 3 rows:\n",
      "     Name Age Gender Marks       City\n",
      "4  Manan  20      M    82  Bharatpur\n",
      "5  Harsh  20      M    81      Buxar\n"
     ]
    }
   ],
   "source": [
    "print(\"First 3 rows:\\n\", df.tail(2))"
   ]
  },
  {
   "cell_type": "code",
   "execution_count": 7,
   "id": "d075784e-a78e-45fa-80c1-17b65ebeefe7",
   "metadata": {},
   "outputs": [
    {
     "name": "stdout",
     "output_type": "stream",
     "text": [
      "✅ WakaTime heartbeat sent at 1752334962.900744\n",
      "Shape\n",
      " (6, 5)\n"
     ]
    }
   ],
   "source": [
    "print(\"Shape\\n\", df.shape)"
   ]
  },
  {
   "cell_type": "code",
   "execution_count": 8,
   "id": "33425088-ad57-4fa1-b25c-4b085c68b012",
   "metadata": {},
   "outputs": [
    {
     "name": "stdout",
     "output_type": "stream",
     "text": [
      "✅ WakaTime heartbeat sent at 1752334962.948214\n",
      "Stats\n",
      "             Name  Age Gender  Marks       City\n",
      "count          6    6      6      6          6\n",
      "unique         6    1      1      5          4\n",
      "top     Divyansh   20      M     81  Prayagraj\n",
      "freq           1    6      6      2          3\n"
     ]
    }
   ],
   "source": [
    "print(\"Stats\\n\", df.describe())"
   ]
  },
  {
   "cell_type": "code",
   "execution_count": 9,
   "id": "1d4779c8-1282-46c9-a48d-093a6c36ebe2",
   "metadata": {},
   "outputs": [
    {
     "name": "stdout",
     "output_type": "stream",
     "text": [
      "✅ WakaTime heartbeat sent at 1752334962.999756\n",
      "Name Column:\n",
      " 0    Divyansh\n",
      "1     Swapnil\n",
      "2     Vaibhav\n",
      "3     Sauhard\n",
      "4       Manan\n",
      "5       Harsh\n",
      "Name: Name, dtype: object\n"
     ]
    }
   ],
   "source": [
    "print(\"Name Column:\\n\", df['Name'])"
   ]
  },
  {
   "cell_type": "code",
   "execution_count": 10,
   "id": "3c4ef86d-9d44-41d2-8d57-d40049f7a598",
   "metadata": {},
   "outputs": [
    {
     "name": "stdout",
     "output_type": "stream",
     "text": [
      "✅ WakaTime heartbeat sent at 1752334963.046975\n",
      "Name Column:\n",
      "        Name Marks\n",
      "0  Divyansh    86\n",
      "1   Swapnil    80\n",
      "2   Vaibhav    81\n",
      "3   Sauhard    89\n",
      "4     Manan    82\n",
      "5     Harsh    81\n"
     ]
    }
   ],
   "source": [
    "print(\"Name Column:\\n\", df[['Name', 'Marks']])"
   ]
  },
  {
   "cell_type": "code",
   "execution_count": 11,
   "id": "fffda7f7-aba5-404e-a3f4-259a46f27d74",
   "metadata": {},
   "outputs": [
    {
     "name": "stdout",
     "output_type": "stream",
     "text": [
      "✅ WakaTime heartbeat sent at 1752334963.096225\n",
      "Name Column:\n",
      "        Name Age Gender Marks       City\n",
      "0  Divyansh  20      M    86  Prayagraj\n",
      "3   Sauhard  20      M    89  Rishikesh\n"
     ]
    }
   ],
   "source": [
    "print(\"Name Column:\\n\", df[df['Marks'] > 85])"
   ]
  },
  {
   "cell_type": "code",
   "execution_count": 12,
   "id": "e11dc047-7551-4639-8191-43b0787480fe",
   "metadata": {},
   "outputs": [
    {
     "name": "stdout",
     "output_type": "stream",
     "text": [
      "✅ WakaTime heartbeat sent at 1752334963.147953\n",
      "Name Column:\n",
      "        Name Age Gender Marks       City\n",
      "0  Divyansh  20      M    86  Prayagraj\n",
      "1   Swapnil  20      M    80  Prayagraj\n",
      "2   Vaibhav  20      M    81  Prayagraj\n"
     ]
    }
   ],
   "source": [
    "print(\"Name Column:\\n\", df[df['City'] == \"Prayagraj\"])"
   ]
  },
  {
   "cell_type": "code",
   "execution_count": 13,
   "id": "cf77e5e3-f2fe-4593-bf44-91c4e3d756ab",
   "metadata": {},
   "outputs": [
    {
     "name": "stdout",
     "output_type": "stream",
     "text": [
      "✅ WakaTime heartbeat sent at 1752334963.19647\n",
      "       Name Age Gender Marks       City Result\n",
      "0  Divyansh  20      M    86  Prayagraj   Pass\n",
      "1   Swapnil  20      M    80  Prayagraj   Pass\n",
      "2   Vaibhav  20      M    81  Prayagraj   Pass\n",
      "3   Sauhard  20      M    89  Rishikesh   Pass\n",
      "4     Manan  20      M    82  Bharatpur   Pass\n",
      "5     Harsh  20      M    81      Buxar   Pass\n"
     ]
    }
   ],
   "source": [
    "df['Result'] = ['Pass' if m >= 40 else 'Fail' for m in df['Marks']]\n",
    "print(df)"
   ]
  },
  {
   "cell_type": "code",
   "execution_count": 14,
   "id": "14be3e0f-a9bd-41c7-8378-c11200c3790d",
   "metadata": {},
   "outputs": [
    {
     "name": "stdout",
     "output_type": "stream",
     "text": [
      "✅ WakaTime heartbeat sent at 1752334963.245578\n",
      "0    20.0\n",
      "1    20.0\n",
      "2    20.0\n",
      "3    20.0\n",
      "4    20.0\n",
      "5    20.0\n",
      "Name: Age, dtype: float64\n"
     ]
    }
   ],
   "source": [
    "df['Age'] = df['Age'].astype(float)\n",
    "print(df['Age'])"
   ]
  },
  {
   "cell_type": "code",
   "execution_count": 15,
   "id": "24560345-2e67-409b-a8a7-aa81922c828e",
   "metadata": {},
   "outputs": [
    {
     "name": "stdout",
     "output_type": "stream",
     "text": [
      "✅ WakaTime heartbeat sent at 1752334963.2945\n",
      "       Name   Age Gender Score       City Result\n",
      "0  Divyansh  20.0      M    86  Prayagraj   Pass\n",
      "1   Swapnil  20.0      M    80  Prayagraj   Pass\n",
      "2   Vaibhav  20.0      M    81  Prayagraj   Pass\n",
      "3   Sauhard  20.0      M    89  Rishikesh   Pass\n",
      "4     Manan  20.0      M    82  Bharatpur   Pass\n",
      "5     Harsh  20.0      M    81      Buxar   Pass\n"
     ]
    }
   ],
   "source": [
    "df.rename(columns={'Marks': 'Score'}, inplace=True)\n",
    "print(df)"
   ]
  },
  {
   "cell_type": "code",
   "execution_count": 16,
   "id": "eaa170d7-ac75-4b47-8b1b-20d1d31ba942",
   "metadata": {},
   "outputs": [
    {
     "name": "stdout",
     "output_type": "stream",
     "text": [
      "✅ WakaTime heartbeat sent at 1752334963.344354\n",
      "       Name   Age Gender Score Result\n",
      "0  Divyansh  20.0      M    86   Pass\n",
      "1   Swapnil  20.0      M    80   Pass\n",
      "2   Vaibhav  20.0      M    81   Pass\n",
      "3   Sauhard  20.0      M    89   Pass\n",
      "4     Manan  20.0      M    82   Pass\n",
      "5     Harsh  20.0      M    81   Pass\n"
     ]
    }
   ],
   "source": [
    "df.drop('City', axis=1, inplace=True)\n",
    "# If Assigning to df then like this\n",
    "# df = df.drop('City', axis=1)\n",
    "\n",
    "print(df)"
   ]
  },
  {
   "cell_type": "code",
   "execution_count": 17,
   "id": "5c379172-ad8c-402d-b6a2-4af89741808e",
   "metadata": {},
   "outputs": [
    {
     "name": "stdout",
     "output_type": "stream",
     "text": [
      "✅ WakaTime heartbeat sent at 1752334963.398173\n"
     ]
    }
   ],
   "source": [
    "df.to_csv(\"Student Management Details.csv\", index=False) # index=False in .to_csv() is used to exclude the index column from being written to the CSV file."
   ]
  },
  {
   "cell_type": "code",
   "execution_count": null,
   "id": "d2295600-1a3f-4f5a-b6c4-a405b4823961",
   "metadata": {},
   "outputs": [],
   "source": []
  }
 ],
 "metadata": {
  "kernelspec": {
   "display_name": "Python 3 (ipykernel)",
   "language": "python",
   "name": "python3"
  },
  "language_info": {
   "codemirror_mode": {
    "name": "ipython",
    "version": 3
   },
   "file_extension": ".py",
   "mimetype": "text/x-python",
   "name": "python",
   "nbconvert_exporter": "python",
   "pygments_lexer": "ipython3",
   "version": "3.11.13"
  }
 },
 "nbformat": 4,
 "nbformat_minor": 5
}
