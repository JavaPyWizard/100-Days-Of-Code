{
 "cells": [
  {
   "cell_type": "code",
   "execution_count": 1,
   "id": "58e6ea73-bc62-4801-ae3c-28a205b3daaa",
   "metadata": {},
   "outputs": [],
   "source": [
    "import subprocess\n",
    "from datetime import datetime\n",
    "from IPython import get_ipython\n",
    "\n",
    "# --- CONFIGURATION ---\n",
    "NOTEBOOK_NAME = \"Indexing_Cleaning.ipynb\"\n",
    "PLUGIN_NAME = \"jupyterlab/4.0.0\"\n",
    "LANGUAGE = \"Python\"\n",
    "# ----------------------\n",
    "\n",
    "def log_to_wakatime():\n",
    "    timestamp = str(datetime.utcnow().timestamp())\n",
    "    result = subprocess.run([\n",
    "        \"wakatime-cli\",\n",
    "        \"--entity\", NOTEBOOK_NAME,\n",
    "        \"--entity-type\", \"file\",\n",
    "        \"--plugin\", PLUGIN_NAME,\n",
    "        \"--language\", LANGUAGE,\n",
    "        \"--write\",\n",
    "        \"--time\", timestamp\n",
    "    ], capture_output=True, text=True)\n",
    "\n",
    "    if result.returncode != 0:\n",
    "        print(\"❌ WakaTime CLI Error:\")\n",
    "        print(\"STDOUT:\", result.stdout)\n",
    "        print(\"STDERR:\", result.stderr)\n",
    "    else:\n",
    "        print(\"✅ WakaTime heartbeat sent at\", timestamp)\n",
    "\n",
    "def on_cell_run(execution_info):\n",
    "    log_to_wakatime()\n",
    "\n",
    "# Clear broken old handlers (if rerunning)\n",
    "ip = get_ipython()\n",
    "for cb in list(ip.events.callbacks['pre_run_cell']):\n",
    "    if cb.__name__ == \"<lambda>\":\n",
    "        ip.events.unregister('pre_run_cell', cb)\n",
    "\n",
    "ip.events.register('pre_run_cell', on_cell_run)"
   ]
  },
  {
   "cell_type": "code",
   "execution_count": 2,
   "id": "6841188e-a32c-48e6-a7a3-46ddc7a8b654",
   "metadata": {},
   "outputs": [
    {
     "name": "stdout",
     "output_type": "stream",
     "text": [
      "✅ WakaTime heartbeat sent at 1752411933.361445\n"
     ]
    }
   ],
   "source": [
    "import pandas as pd"
   ]
  },
  {
   "cell_type": "code",
   "execution_count": 3,
   "id": "03793341-3f59-4be8-a6fb-1b5d2774d8de",
   "metadata": {},
   "outputs": [
    {
     "name": "stdout",
     "output_type": "stream",
     "text": [
      "✅ WakaTime heartbeat sent at 1752411933.803626\n",
      "    ID     Name  Age Gender  Marks    Subject       City\n",
      "0  101    Alice   20      F     88       Math      Delhi\n",
      "1  102      Bob   21      M     76    Physics     Mumbai\n",
      "2  103  Charlie   22      M     93  Chemistry  Bangalore\n",
      "3  104    Diana   20      F     85       Math    Chennai\n",
      "4  105    Ethan   23      M     70    Biology       Pune\n",
      "5  106    Fiona   21      F     90    Physics      Delhi\n",
      "6  107   George   22      M     60       Math     Mumbai\n",
      "7  108   Hannah   23      F     95  Chemistry  Hyderabad\n",
      "8  109      Ian   20      M     55    Biology      Delhi\n",
      "9  110     Jane   21      F     82    Physics    Kolkata\n"
     ]
    }
   ],
   "source": [
    "df = pd.read_csv(\"data.csv\")\n",
    "print(df)"
   ]
  },
  {
   "cell_type": "code",
   "execution_count": 4,
   "id": "d937a465-44e6-4b0e-a6f2-dbb8ead0cf6f",
   "metadata": {},
   "outputs": [
    {
     "name": "stdout",
     "output_type": "stream",
     "text": [
      "✅ WakaTime heartbeat sent at 1752411933.849793\n",
      "        Name  Age Gender  Marks    Subject       City\n",
      "ID                                                   \n",
      "101    Alice   20      F     88       Math      Delhi\n",
      "102      Bob   21      M     76    Physics     Mumbai\n",
      "103  Charlie   22      M     93  Chemistry  Bangalore\n",
      "104    Diana   20      F     85       Math    Chennai\n",
      "105    Ethan   23      M     70    Biology       Pune\n",
      "106    Fiona   21      F     90    Physics      Delhi\n",
      "107   George   22      M     60       Math     Mumbai\n",
      "108   Hannah   23      F     95  Chemistry  Hyderabad\n",
      "109      Ian   20      M     55    Biology      Delhi\n",
      "110     Jane   21      F     82    Physics    Kolkata\n"
     ]
    }
   ],
   "source": [
    "df = pd.read_csv(\"data.csv\")\n",
    "df.set_index(\"ID\", inplace=True) # inplace=True modifies the DataFrame directly.\n",
    "print(df)"
   ]
  },
  {
   "cell_type": "code",
   "execution_count": 9,
   "id": "d28f665d-b4dc-468f-9568-ba3a16598fef",
   "metadata": {},
   "outputs": [
    {
     "name": "stdout",
     "output_type": "stream",
     "text": [
      "✅ WakaTime heartbeat sent at 1752414597.41447\n",
      "        Name  Age Gender  Marks    Subject       City\n",
      "ID                                                   \n",
      "105    Ethan   23      M     70    Biology       Pune\n",
      "108   Hannah   23      F     95  Chemistry  Hyderabad\n",
      "107   George   22      M     60       Math     Mumbai\n",
      "103  Charlie   22      M     93  Chemistry  Bangalore\n",
      "102      Bob   21      M     76    Physics     Mumbai\n",
      "110     Jane   21      F     82    Physics    Kolkata\n",
      "106    Fiona   21      F     90    Physics      Delhi\n",
      "109      Ian   20      M     55    Biology      Delhi\n",
      "104    Diana   20      F     85       Math    Chennai\n",
      "101    Alice   20      F     88       Math      Delhi\n"
     ]
    }
   ],
   "source": [
    "# df = df. sort_values(by=\"Marks\") # Ascending by Default\n",
    "df = df.sort_values(by='Age', ascending=False) # Descending\n",
    "print(df)"
   ]
  }
 ],
 "metadata": {
  "kernelspec": {
   "display_name": "Python 3 (ipykernel)",
   "language": "python",
   "name": "python3"
  },
  "language_info": {
   "codemirror_mode": {
    "name": "ipython",
    "version": 3
   },
   "file_extension": ".py",
   "mimetype": "text/x-python",
   "name": "python",
   "nbconvert_exporter": "python",
   "pygments_lexer": "ipython3",
   "version": "3.11.13"
  }
 },
 "nbformat": 4,
 "nbformat_minor": 5
}
