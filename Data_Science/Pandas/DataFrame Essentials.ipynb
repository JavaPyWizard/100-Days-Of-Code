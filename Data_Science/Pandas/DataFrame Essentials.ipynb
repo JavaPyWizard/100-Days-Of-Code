{
 "cells": [
  {
   "cell_type": "code",
   "execution_count": 1,
   "id": "dd1b741d-de49-4a6f-afc3-76e56a5b2786",
   "metadata": {},
   "outputs": [],
   "source": [
    "import subprocess\n",
    "from datetime import datetime\n",
    "from IPython import get_ipython\n",
    "\n",
    "# --- CONFIGURATION ---\n",
    "NOTEBOOK_NAME = \"DataFrame Essentials.ipynb\"\n",
    "PLUGIN_NAME = \"jupyterlab/4.0.0\"\n",
    "LANGUAGE = \"Python\"\n",
    "# ----------------------\n",
    "\n",
    "def log_to_wakatime():\n",
    "    timestamp = str(datetime.utcnow().timestamp())\n",
    "    result = subprocess.run([\n",
    "        \"wakatime-cli\",\n",
    "        \"--entity\", NOTEBOOK_NAME,\n",
    "        \"--entity-type\", \"file\",\n",
    "        \"--plugin\", PLUGIN_NAME,\n",
    "        \"--language\", LANGUAGE,\n",
    "        \"--write\",\n",
    "        \"--time\", timestamp\n",
    "    ], capture_output=True, text=True)\n",
    "\n",
    "    if result.returncode != 0:\n",
    "        print(\"❌ WakaTime CLI Error:\")\n",
    "        print(\"STDOUT:\", result.stdout)\n",
    "        print(\"STDERR:\", result.stderr)\n",
    "    else:\n",
    "        print(\"✅ WakaTime heartbeat sent at\", timestamp)\n",
    "\n",
    "def on_cell_run(execution_info):\n",
    "    log_to_wakatime()\n",
    "\n",
    "# Clear broken old handlers (if rerunning)\n",
    "ip = get_ipython()\n",
    "for cb in list(ip.events.callbacks['pre_run_cell']):\n",
    "    if cb.__name__ == \"<lambda>\":\n",
    "        ip.events.unregister('pre_run_cell', cb)\n",
    "\n",
    "ip.events.register('pre_run_cell', on_cell_run)"
   ]
  },
  {
   "cell_type": "code",
   "execution_count": 2,
   "id": "ddc6442c-33e5-485f-9cb3-2778d36a683f",
   "metadata": {},
   "outputs": [
    {
     "name": "stdout",
     "output_type": "stream",
     "text": [
      "✅ WakaTime heartbeat sent at 1752331552.201035\n"
     ]
    }
   ],
   "source": [
    "import pandas as pd"
   ]
  },
  {
   "cell_type": "markdown",
   "id": "44884483-ea9a-400f-acec-17c17c5f1260",
   "metadata": {},
   "source": [
    "# 🔹 What is Pandas?\n",
    "\n",
    "**Pandas** is a Python library for **data manipulation and analysis**.\n",
    "It provides two main data structures:\n",
    "\n",
    "* `Series`: 1D labeled array (like a column)\n",
    "* `DataFrame`: 2D labeled table (like an Excel sheet)\n"
   ]
  },
  {
   "cell_type": "markdown",
   "id": "dd3704db-3819-495a-a963-b7e2ed080d97",
   "metadata": {},
   "source": [
    "# Creating Series \n",
    "\n",
    "## If no custom index is provided, `pandas` index the series from 0 to n-1 `n: number of elemetns`"
   ]
  },
  {
   "cell_type": "code",
   "execution_count": 3,
   "id": "446e0812-3acc-456c-be91-e6eafbdae1eb",
   "metadata": {},
   "outputs": [
    {
     "name": "stdout",
     "output_type": "stream",
     "text": [
      "✅ WakaTime heartbeat sent at 1752331552.539573\n",
      "0    10\n",
      "1    20\n",
      "2    30\n",
      "3    40\n",
      "dtype: int64\n",
      "<class 'pandas.core.series.Series'>\n",
      "Index([2], dtype='int64')\n",
      "20\n"
     ]
    }
   ],
   "source": [
    "s1 = pd.Series([10,20,30,40])\n",
    "print(s1)\n",
    "print(type(s1))\n",
    "print(s1.index[s1==30])\n",
    "print(s1[1])"
   ]
  },
  {
   "cell_type": "code",
   "execution_count": 4,
   "id": "ee97c41f-8f19-4c23-9201-45d83590db2e",
   "metadata": {},
   "outputs": [
    {
     "name": "stdout",
     "output_type": "stream",
     "text": [
      "✅ WakaTime heartbeat sent at 1752331552.598801\n",
      "a    10\n",
      "b    20\n",
      "c    30\n",
      "dtype: int64\n",
      "<class 'pandas.core.series.Series'>\n",
      "Index(['c'], dtype='object')\n",
      "10\n"
     ]
    }
   ],
   "source": [
    "# Custom indexing\n",
    "s2 = pd.Series([10, 20, 30], index=['a', 'b', 'c'])\n",
    "print(s2)\n",
    "print(type(s2))\n",
    "print(s2.index[s2==30])\n",
    "print(s2['a'])"
   ]
  },
  {
   "cell_type": "markdown",
   "id": "d9f57867-2b7b-4f48-a7c8-f4294df42802",
   "metadata": {},
   "source": [
    "# Creating DataFrames"
   ]
  },
  {
   "cell_type": "code",
   "execution_count": 5,
   "id": "b5597b3d-80f5-4fb8-a95c-12d3a4895591",
   "metadata": {},
   "outputs": [
    {
     "name": "stdout",
     "output_type": "stream",
     "text": [
      "✅ WakaTime heartbeat sent at 1752331552.654987\n",
      "      Name  Age\n",
      "0    Alice   25\n",
      "1      Bob   30\n",
      "2  Charlie   35\n"
     ]
    }
   ],
   "source": [
    "data = [\n",
    "    [\"Alice\", 25],\n",
    "    [\"Bob\", 30],\n",
    "    [\"Charlie\", 35]\n",
    "]\n",
    " \n",
    "df = pd.DataFrame(data, columns=[\"Name\", \"Age\"])\n",
    "print(df)"
   ]
  },
  {
   "cell_type": "code",
   "execution_count": 6,
   "id": "56bd59dc-fa35-46a1-813b-4f44448eb1eb",
   "metadata": {},
   "outputs": [
    {
     "name": "stdout",
     "output_type": "stream",
     "text": [
      "✅ WakaTime heartbeat sent at 1752331552.710755\n",
      "      Name  Age  Marks\n",
      "0    Alice   25   87.0\n",
      "1      Bob   30    NaN\n",
      "2  Charlie   35    NaN\n"
     ]
    }
   ],
   "source": [
    "data = [\n",
    "    [\"Alice\", 25, 87],\n",
    "    [\"Bob\", 30],\n",
    "    [\"Charlie\", 35]\n",
    "]\n",
    " \n",
    "df = pd.DataFrame(data, columns=[\"Name\", \"Age\", \"Marks\"])\n",
    "print(df)"
   ]
  },
  {
   "cell_type": "code",
   "execution_count": 7,
   "id": "ca47a996-f132-4e19-a3e9-747684a94ad7",
   "metadata": {},
   "outputs": [
    {
     "name": "stdout",
     "output_type": "stream",
     "text": [
      "✅ WakaTime heartbeat sent at 1752331552.765502\n",
      "      name  age       city\n",
      "0    Alice   25      Delhi\n",
      "1      Bob   30     Mumbai\n",
      "2  Charlie   35  Bangalore\n"
     ]
    }
   ],
   "source": [
    "data = {\n",
    "    \"name\": [\"Alice\", \"Bob\", \"Charlie\"],\n",
    "    \"age\": [25, 30, 35],\n",
    "    \"city\": [\"Delhi\", \"Mumbai\", \"Bangalore\"]\n",
    "}\n",
    "\n",
    "df = pd.DataFrame(data)\n",
    "print(df)"
   ]
  },
  {
   "cell_type": "code",
   "execution_count": 8,
   "id": "3eed80a5-a5b9-4acd-8c61-d284f00780a2",
   "metadata": {},
   "outputs": [
    {
     "name": "stdout",
     "output_type": "stream",
     "text": [
      "✅ WakaTime heartbeat sent at 1752331552.82583\n",
      "      name  age       city\n",
      "a    Alice   25      Delhi\n",
      "b      Bob   30     Mumbai\n",
      "c  Charlie   35  Bangalore\n",
      "      name  age       city\n",
      "x    Alice   25      Delhi\n",
      "y      Bob   30     Mumbai\n",
      "z  Charlie   35  Bangalore\n"
     ]
    }
   ],
   "source": [
    "df = pd.DataFrame(data, index=[\"a\", \"b\", \"c\"])\n",
    "print(df)\n",
    "\n",
    "# OR\n",
    "\n",
    "df.index = ['x', 'y', 'z']\n",
    "print(df)"
   ]
  },
  {
   "cell_type": "code",
   "execution_count": 9,
   "id": "1c1e183f-94f1-4610-a299-4de6dadc748d",
   "metadata": {},
   "outputs": [
    {
     "name": "stdout",
     "output_type": "stream",
     "text": [
      "✅ WakaTime heartbeat sent at 1752331552.881442\n",
      "   A  B\n",
      "0  1  2\n",
      "1  3  4\n"
     ]
    }
   ],
   "source": [
    "import numpy as np\n",
    "\n",
    "arr = np.array([[1, 2], [3, 4]])\n",
    "df = pd.DataFrame(arr, columns=[\"A\", \"B\"])\n",
    "print(df)"
   ]
  },
  {
   "cell_type": "markdown",
   "id": "3f01e9f2-d514-458b-8bd0-c43ed50de2d8",
   "metadata": {},
   "source": [
    "# Reading External Data\n",
    "## ***Syntax***\n",
    "```pd.read_FileType(\"File_Name.extension\")```"
   ]
  },
  {
   "cell_type": "code",
   "execution_count": 10,
   "id": "88c18fe9-2112-432a-be14-514eacdfe8c2",
   "metadata": {},
   "outputs": [
    {
     "name": "stdout",
     "output_type": "stream",
     "text": [
      "✅ WakaTime heartbeat sent at 1752331552.936072\n",
      "    ID     Name  Age Gender  Marks    Subject       City\n",
      "0  101    Alice   20      F     88       Math      Delhi\n",
      "1  102      Bob   21      M     76    Physics     Mumbai\n",
      "2  103  Charlie   22      M     93  Chemistry  Bangalore\n",
      "3  104    Diana   20      F     85       Math    Chennai\n",
      "4  105    Ethan   23      M     70    Biology       Pune\n",
      "5  106    Fiona   21      F     90    Physics      Delhi\n",
      "6  107   George   22      M     60       Math     Mumbai\n",
      "7  108   Hannah   23      F     95  Chemistry  Hyderabad\n",
      "8  109      Ian   20      M     55    Biology      Delhi\n",
      "9  110     Jane   21      F     82    Physics    Kolkata\n"
     ]
    }
   ],
   "source": [
    "df = pd.read_csv('data.csv')\n",
    "print(df)"
   ]
  },
  {
   "cell_type": "markdown",
   "id": "a6559c57-ff08-4cc9-b94c-c99ed80aa6ef",
   "metadata": {},
   "source": [
    "---\n",
    "\n",
    "# If we want any row to be the column index then it can be done like this:\n",
    "\n",
    "### Option 1: Set index while reading the CSV\n",
    "\n",
    "### Option 2: Set index after reading"
   ]
  },
  {
   "cell_type": "code",
   "execution_count": 11,
   "id": "ae536b4b-f913-4295-96db-7cd992c618aa",
   "metadata": {},
   "outputs": [
    {
     "name": "stdout",
     "output_type": "stream",
     "text": [
      "✅ WakaTime heartbeat sent at 1752331552.990937\n",
      "        Name  Age Gender  Marks    Subject       City\n",
      "ID                                                   \n",
      "101    Alice   20      F     88       Math      Delhi\n",
      "102      Bob   21      M     76    Physics     Mumbai\n",
      "103  Charlie   22      M     93  Chemistry  Bangalore\n",
      "104    Diana   20      F     85       Math    Chennai\n",
      "105    Ethan   23      M     70    Biology       Pune\n",
      "106    Fiona   21      F     90    Physics      Delhi\n",
      "107   George   22      M     60       Math     Mumbai\n",
      "108   Hannah   23      F     95  Chemistry  Hyderabad\n",
      "109      Ian   20      M     55    Biology      Delhi\n",
      "110     Jane   21      F     82    Physics    Kolkata\n"
     ]
    }
   ],
   "source": [
    "# Option 1:\n",
    "df = pd.read_csv(\"data.csv\", index_col=\"ID\")\n",
    "print(df)"
   ]
  },
  {
   "cell_type": "code",
   "execution_count": 12,
   "id": "874567ba-5a5d-45c8-83dd-ea2b44496ac4",
   "metadata": {},
   "outputs": [
    {
     "name": "stdout",
     "output_type": "stream",
     "text": [
      "✅ WakaTime heartbeat sent at 1752331553.046404\n",
      "        Name  Age Gender  Marks    Subject       City\n",
      "ID                                                   \n",
      "101    Alice   20      F     88       Math      Delhi\n",
      "102      Bob   21      M     76    Physics     Mumbai\n",
      "103  Charlie   22      M     93  Chemistry  Bangalore\n",
      "104    Diana   20      F     85       Math    Chennai\n",
      "105    Ethan   23      M     70    Biology       Pune\n",
      "106    Fiona   21      F     90    Physics      Delhi\n",
      "107   George   22      M     60       Math     Mumbai\n",
      "108   Hannah   23      F     95  Chemistry  Hyderabad\n",
      "109      Ian   20      M     55    Biology      Delhi\n",
      "110     Jane   21      F     82    Physics    Kolkata\n"
     ]
    }
   ],
   "source": [
    "# Option 2:\n",
    "df = pd.read_csv(\"data.csv\")\n",
    "df.set_index(\"ID\", inplace=True) # inplace=True modifies the DataFrame directly.\n",
    "print(df)"
   ]
  },
  {
   "cell_type": "markdown",
   "id": "d1e13d29-8cb2-4dc6-97d8-175a2b0f37c9",
   "metadata": {},
   "source": [
    "| With `inplace=True`          | Without `inplace=True`                   |\n",
    "| ---------------------------- | ---------------------------------------- |\n",
    "| Modifies the original object | Returns a modified copy                  |\n",
    "| Less memory usage            | More explicit, avoids accidental changes |\n",
    "| Cannot be chained            | Can be used in method chains             |\n"
   ]
  },
  {
   "cell_type": "code",
   "execution_count": 13,
   "id": "fc3eae38-e041-4493-934f-52a62fd39412",
   "metadata": {},
   "outputs": [
    {
     "name": "stdout",
     "output_type": "stream",
     "text": [
      "✅ WakaTime heartbeat sent at 1752331553.102349\n",
      "\n",
      "Head:         Name  Age Gender  Marks    Subject       City\n",
      "ID                                                   \n",
      "101    Alice   20      F     88       Math      Delhi\n",
      "102      Bob   21      M     76    Physics     Mumbai\n",
      "103  Charlie   22      M     93  Chemistry  Bangalore\n",
      "104    Diana   20      F     85       Math    Chennai\n",
      "105    Ethan   23      M     70    Biology       Pune\n",
      "\n",
      "Tail:        Name  Age Gender  Marks    Subject       City\n",
      "ID                                                  \n",
      "106   Fiona   21      F     90    Physics      Delhi\n",
      "107  George   22      M     60       Math     Mumbai\n",
      "108  Hannah   23      F     95  Chemistry  Hyderabad\n",
      "109     Ian   20      M     55    Biology      Delhi\n",
      "110    Jane   21      F     82    Physics    Kolkata\n",
      "<class 'pandas.core.frame.DataFrame'>\n",
      "Index: 10 entries, 101 to 110\n",
      "Data columns (total 6 columns):\n",
      " #   Column   Non-Null Count  Dtype \n",
      "---  ------   --------------  ----- \n",
      " 0   Name     10 non-null     object\n",
      " 1   Age      10 non-null     int64 \n",
      " 2   Gender   10 non-null     object\n",
      " 3   Marks    10 non-null     int64 \n",
      " 4   Subject  10 non-null     object\n",
      " 5   City     10 non-null     object\n",
      "dtypes: int64(2), object(4)\n",
      "memory usage: 560.0+ bytes\n",
      "\n",
      "Info: None\n",
      "\n",
      "Describe:              Age      Marks\n",
      "count  10.000000  10.000000\n",
      "mean   21.300000  79.400000\n",
      "std     1.159502  13.841965\n",
      "min    20.000000  55.000000\n",
      "25%    20.250000  71.500000\n",
      "50%    21.000000  83.500000\n",
      "75%    22.000000  89.500000\n",
      "max    23.000000  95.000000\n",
      "\n",
      "Shape: (10, 6)\n",
      "\n",
      "Columns: Index(['Name', 'Age', 'Gender', 'Marks', 'Subject', 'City'], dtype='object')\n"
     ]
    }
   ],
   "source": [
    "print(\"\\nHead:\",df.head())        # First 5 rows\n",
    "print(\"\\nTail:\",df.tail())        # Last 5 rows\n",
    "print(\"\\nInfo:\",df.info())        # Column types and non-null counts\n",
    "print(\"\\nDescribe:\",df.describe())    # Summary statistics\n",
    "print(\"\\nShape:\",df.shape)         # (rows, columns)\n",
    "print(\"\\nColumns:\",df.columns)       # Column names"
   ]
  },
  {
   "cell_type": "markdown",
   "id": "78780035-eda0-4d71-882d-8344bc11ef59",
   "metadata": {},
   "source": [
    "# Accessing Columns & Rows"
   ]
  },
  {
   "cell_type": "code",
   "execution_count": 14,
   "id": "e303e6f4-4185-4fbd-aba4-14e81ea282bd",
   "metadata": {},
   "outputs": [
    {
     "name": "stdout",
     "output_type": "stream",
     "text": [
      "✅ WakaTime heartbeat sent at 1752331553.162716\n",
      "ID\n",
      "101      Alice\n",
      "102        Bob\n",
      "103    Charlie\n",
      "104      Diana\n",
      "105      Ethan\n",
      "106      Fiona\n",
      "107     George\n",
      "108     Hannah\n",
      "109        Ian\n",
      "110       Jane\n",
      "Name: Name, dtype: object\n",
      "        Name  Age\n",
      "ID               \n",
      "101    Alice   20\n",
      "102      Bob   21\n",
      "103  Charlie   22\n",
      "104    Diana   20\n",
      "105    Ethan   23\n",
      "106    Fiona   21\n",
      "107   George   22\n",
      "108   Hannah   23\n",
      "109      Ian   20\n",
      "110     Jane   21\n",
      "Name       Alice\n",
      "Age           20\n",
      "Gender         F\n",
      "Marks         88\n",
      "Subject     Math\n",
      "City       Delhi\n",
      "Name: 101, dtype: object\n",
      "Name           Bob\n",
      "Age             21\n",
      "Gender           M\n",
      "Marks           76\n",
      "Subject    Physics\n",
      "City        Mumbai\n",
      "Name: 102, dtype: object\n",
      "        Name  Age Gender  Marks    Subject       City\n",
      "ID                                                   \n",
      "102      Bob   21      M     76    Physics     Mumbai\n",
      "103  Charlie   22      M     93  Chemistry  Bangalore\n",
      "105    Ethan   23      M     70    Biology       Pune\n",
      "106    Fiona   21      F     90    Physics      Delhi\n",
      "107   George   22      M     60       Math     Mumbai\n",
      "108   Hannah   23      F     95  Chemistry  Hyderabad\n",
      "110     Jane   21      F     82    Physics    Kolkata\n"
     ]
    }
   ],
   "source": [
    "# Access a column\n",
    "print(df['Name'])\n",
    "\n",
    "# Access multiple columns\n",
    "print(df[['Name', 'Age']])\n",
    "\n",
    "# Access rows by index position (first row, not 101st!)\n",
    "print(df.iloc[0])   # change 101 to a valid position, like 0, 1, etc.\n",
    "\n",
    "# Access rows by label (index must have 102 as a label!)\n",
    "print(df.loc[102])  # this works only if 102 is an index label (e.g., ID)\n",
    "\n",
    "# Conditional filtering\n",
    "print(df[df['Age'] > 20])\n"
   ]
  },
  {
   "cell_type": "markdown",
   "id": "65ed659f-b10a-48a0-ae0f-1c42ac4be74b",
   "metadata": {},
   "source": [
    "##  Changing Data Types\n",
    "\n",
    "```python\n",
    "df['Age'] = df['Age'].astype(float)\n",
    "```"
   ]
  },
  {
   "cell_type": "code",
   "execution_count": 15,
   "id": "8fb24f1c-9a1a-4c10-88b5-3d82b701a818",
   "metadata": {},
   "outputs": [
    {
     "name": "stdout",
     "output_type": "stream",
     "text": [
      "✅ WakaTime heartbeat sent at 1752331553.217584\n",
      "ID\n",
      "101    20.0\n",
      "102    21.0\n",
      "103    22.0\n",
      "104    20.0\n",
      "105    23.0\n",
      "106    21.0\n",
      "107    22.0\n",
      "108    23.0\n",
      "109    20.0\n",
      "110    21.0\n",
      "Name: Age, dtype: float64\n"
     ]
    }
   ],
   "source": [
    "df['Age'] = df['Age'].astype(float)\n",
    "print(df['Age'])"
   ]
  },
  {
   "cell_type": "markdown",
   "id": "f80333fe-318c-4767-a683-301545d49be0",
   "metadata": {},
   "source": [
    "## Renaming Columns\n",
    "\n",
    "```python\n",
    "df.rename(columns={'Name': 'Full Name'}, inplace=True)\n",
    "```"
   ]
  },
  {
   "cell_type": "code",
   "execution_count": 16,
   "id": "b4f5c499-f909-45f7-b673-fc33381400e7",
   "metadata": {},
   "outputs": [
    {
     "name": "stdout",
     "output_type": "stream",
     "text": [
      "✅ WakaTime heartbeat sent at 1752331553.273005\n",
      "    Full Name   Age Gender  Marks    Subject       City\n",
      "ID                                                     \n",
      "101     Alice  20.0      F     88       Math      Delhi\n",
      "102       Bob  21.0      M     76    Physics     Mumbai\n",
      "103   Charlie  22.0      M     93  Chemistry  Bangalore\n",
      "104     Diana  20.0      F     85       Math    Chennai\n",
      "105     Ethan  23.0      M     70    Biology       Pune\n",
      "106     Fiona  21.0      F     90    Physics      Delhi\n",
      "107    George  22.0      M     60       Math     Mumbai\n",
      "108    Hannah  23.0      F     95  Chemistry  Hyderabad\n",
      "109       Ian  20.0      M     55    Biology      Delhi\n",
      "110      Jane  21.0      F     82    Physics    Kolkata\n"
     ]
    }
   ],
   "source": [
    "df.rename(columns={'Name': 'Full Name'}, inplace=True)\n",
    "print(df)"
   ]
  },
  {
   "cell_type": "markdown",
   "id": "45256977-0c07-4eaa-974a-409587ed4a0b",
   "metadata": {},
   "source": [
    "## Adding / Dropping Columns\n",
    "\n",
    "```python\n",
    "df['Score'] = [85, 90]               # Add new column\n",
    "df.drop('Score', axis=1, inplace=True)  # Drop column\n",
    "```"
   ]
  },
  {
   "cell_type": "code",
   "execution_count": 17,
   "id": "ef1f14c0-3546-4eff-b796-5056ab32d57c",
   "metadata": {},
   "outputs": [
    {
     "name": "stdout",
     "output_type": "stream",
     "text": [
      "✅ WakaTime heartbeat sent at 1752331553.330474\n"
     ]
    }
   ],
   "source": [
    "# df['Score'] = [85, 90]               # Add new column\n",
    "# df.drop('Score', axis=1, inplace=True)  # Drop column\n",
    "\n",
    "# Error fix later"
   ]
  }
 ],
 "metadata": {
  "kernelspec": {
   "display_name": "Python 3 (ipykernel)",
   "language": "python",
   "name": "python3"
  },
  "language_info": {
   "codemirror_mode": {
    "name": "ipython",
    "version": 3
   },
   "file_extension": ".py",
   "mimetype": "text/x-python",
   "name": "python",
   "nbconvert_exporter": "python",
   "pygments_lexer": "ipython3",
   "version": "3.11.13"
  }
 },
 "nbformat": 4,
 "nbformat_minor": 5
}
