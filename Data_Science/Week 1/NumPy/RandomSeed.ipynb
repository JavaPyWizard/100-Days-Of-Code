{
 "cells": [
  {
   "cell_type": "code",
   "execution_count": null,
   "id": "1400d142-5233-4365-aeb4-59d3f3795c35",
   "metadata": {},
   "outputs": [],
   "source": [
    "import numpy as np"
   ]
  },
  {
   "cell_type": "markdown",
   "id": "13a73c1f-ad92-4917-9247-6ce63cc37bbe",
   "metadata": {},
   "source": [
    "## 🧠 What is `np.random.seed()`?\n",
    "\n",
    "### ✨ Imagine this:\n",
    "\n",
    "NumPy has a **random number machine** inside. Every time you ask it for a random number, it gives you a different one.\n",
    "\n",
    "But what if you wanted to get the **same random number every time** for testing or learning?\n",
    "\n",
    "That’s where `np.random.seed()` comes in.\n",
    "It tells the machine:\n",
    "🧾 “Start from the same point every time, so I get the **same random numbers** every time.”\n",
    "\n",
    "---\n",
    "\n",
    "\n",
    "## 🎲 Without `seed()`:\n"
   ]
  },
  {
   "cell_type": "code",
   "execution_count": 3,
   "id": "1f0f27a4-8bd0-47bc-a661-616fb57b150d",
   "metadata": {},
   "outputs": [
    {
     "name": "stdout",
     "output_type": "stream",
     "text": [
      "[62 85 64 68 25]\n",
      "[81 27 83 81 85]\n"
     ]
    }
   ],
   "source": [
    "print(np.random.randint(1, 100, 5))  \n",
    "print(np.random.randint(1, 100, 5))  \n",
    "\n",
    "\n",
    "# Every time you run this code, you get **different results** like:\n"
   ]
  },
  {
   "cell_type": "markdown",
   "id": "2163f54a-e2a1-4be6-9bd7-e6ac14526b02",
   "metadata": {},
   "source": [
    "## 🌱 With `seed()`:"
   ]
  },
  {
   "cell_type": "code",
   "execution_count": 5,
   "id": "9f7445a2-2223-4aaf-8e1a-d035a1fa3f6d",
   "metadata": {},
   "outputs": [
    {
     "name": "stdout",
     "output_type": "stream",
     "text": [
      "[45 48 65 68 68]\n",
      "[45 48 65 68 68]\n"
     ]
    }
   ],
   "source": [
    "\n",
    "np.random.seed(0)\n",
    "print(np.random.randint(1, 100, 5))  # Example 1\n",
    "np.random.seed(0)\n",
    "print(np.random.randint(1, 100, 5))  # Example 2\n",
    "\n",
    "\n",
    "# Now you get the **same numbers** every time:\n"
   ]
  },
  {
   "cell_type": "markdown",
   "id": "56c5467a-7a20-44ab-b9c8-22e1b10072b3",
   "metadata": {},
   "source": [
    "\n",
    "\n",
    "Because the machine started from the same spot!\n",
    "\n",
    "---\n",
    "\n",
    "## 📦 Why it matters\n",
    "\n",
    "* You are training a model, and you want **same random values** every time.\n",
    "* You want your code to behave **predictably** for testing.\n",
    "* You want to **compare** two methods without random changes affecting it.\n",
    "\n",
    "---\n",
    "\n",
    "## 🔑 Think of it like:\n",
    "\n",
    "> \"Shuffling a deck of cards in exactly the same way every time.\"\n",
    "\n",
    "---\n",
    "\n",
    "Want me to add this whole explanation to your markdown file too?\n"
   ]
  },
  {
   "cell_type": "code",
   "execution_count": null,
   "id": "24a791c0-495e-4743-b9ca-7b01cb8ec8c7",
   "metadata": {},
   "outputs": [],
   "source": []
  }
 ],
 "metadata": {
  "kernelspec": {
   "display_name": "Python 3 (ipykernel)",
   "language": "python",
   "name": "python3"
  },
  "language_info": {
   "codemirror_mode": {
    "name": "ipython",
    "version": 3
   },
   "file_extension": ".py",
   "mimetype": "text/x-python",
   "name": "python",
   "nbconvert_exporter": "python",
   "pygments_lexer": "ipython3",
   "version": "3.11.13"
  }
 },
 "nbformat": 4,
 "nbformat_minor": 5
}
