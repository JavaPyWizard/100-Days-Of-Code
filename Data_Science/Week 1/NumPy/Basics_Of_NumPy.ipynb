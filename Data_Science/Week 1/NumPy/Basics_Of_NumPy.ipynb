{
 "cells": [
  {
   "cell_type": "code",
   "execution_count": 1,
   "id": "048373aa-b1b3-4cb1-8f30-49d26d69f4bd",
   "metadata": {},
   "outputs": [],
   "source": [
    "import subprocess\n",
    "from datetime import datetime\n",
    "from IPython import get_ipython\n",
    "\n",
    "# --- CONFIGURATION ---\n",
    "NOTEBOOK_NAME = \"Basics_Of_NumPy.ipynb\"  # ← 🔁 Change this per notebook\n",
    "PLUGIN_NAME = \"jupyterlab/4.0.0\"\n",
    "LANGUAGE = \"Python\"\n",
    "# ----------------------\n",
    "\n",
    "def log_to_wakatime():\n",
    "    timestamp = str(datetime.utcnow().timestamp())\n",
    "    result = subprocess.run([\n",
    "        \"wakatime-cli\",\n",
    "        \"--entity\", NOTEBOOK_NAME,\n",
    "        \"--entity-type\", \"file\",\n",
    "        \"--plugin\", PLUGIN_NAME,\n",
    "        \"--language\", LANGUAGE,\n",
    "        \"--write\",\n",
    "        \"--time\", timestamp\n",
    "    ], capture_output=True, text=True)\n",
    "\n",
    "    if result.returncode != 0:\n",
    "        print(\"❌ WakaTime CLI Error:\")\n",
    "        print(\"STDOUT:\", result.stdout)\n",
    "        print(\"STDERR:\", result.stderr)\n",
    "    else:\n",
    "        print(\"✅ WakaTime heartbeat sent at\", timestamp)\n",
    "\n",
    "def on_cell_run(execution_info):\n",
    "    log_to_wakatime()\n",
    "\n",
    "# Clear broken old handlers (if rerunning)\n",
    "ip = get_ipython()\n",
    "for cb in list(ip.events.callbacks['pre_run_cell']):\n",
    "    if cb.__name__ == \"<lambda>\":\n",
    "        ip.events.unregister('pre_run_cell', cb)\n",
    "\n",
    "ip.events.register('pre_run_cell', on_cell_run)\n"
   ]
  },
  {
   "cell_type": "code",
   "execution_count": 2,
   "id": "7b9091af-c428-4b23-b512-a5bead4f1512",
   "metadata": {},
   "outputs": [
    {
     "name": "stdout",
     "output_type": "stream",
     "text": [
      "✅ WakaTime heartbeat sent at 1751466382.635582\n"
     ]
    }
   ],
   "source": [
    "import numpy as np"
   ]
  },
  {
   "cell_type": "markdown",
   "id": "e295754e-91c5-448b-878a-c3e21256334e",
   "metadata": {},
   "source": [
    "# To Create Array from List"
   ]
  },
  {
   "cell_type": "code",
   "execution_count": 3,
   "id": "62d925df-cd89-494c-b7b1-2a2eb7aaa05e",
   "metadata": {},
   "outputs": [
    {
     "name": "stdout",
     "output_type": "stream",
     "text": [
      "✅ WakaTime heartbeat sent at 1751466386.996372\n",
      "[1 2 3 4 5]\n"
     ]
    }
   ],
   "source": [
    "lst = [1,2,3,4,5]\n",
    "arr = np.array(lst)\n",
    "print(arr)"
   ]
  },
  {
   "cell_type": "code",
   "execution_count": 4,
   "id": "77f8944f-5245-4754-b738-5ea85ff2dd72",
   "metadata": {},
   "outputs": [
    {
     "name": "stdout",
     "output_type": "stream",
     "text": [
      "✅ WakaTime heartbeat sent at 1751466387.060882\n",
      "[[1 2]\n",
      " [3 4]\n",
      " [5 6]]\n"
     ]
    }
   ],
   "source": [
    "lst = [[1, 2], [3, 4], [5, 6]]\n",
    "arr = np.array(lst)\n",
    "print(arr)"
   ]
  },
  {
   "cell_type": "markdown",
   "id": "a097cd63-95c7-43ec-8e65-7b53d2773d81",
   "metadata": {},
   "source": [
    "# Basic Array Creation Methods\n",
    "\n",
    "| Method             | Description                        |\n",
    "| ------------------ | ---------------------------------- |\n",
    "| `zeros()`          | Array of all zeros                 |\n",
    "| `ones()`           | Array of all ones                  |\n",
    "| `empty()`          | Uninitialized array                |\n",
    "| `full()`           | Array filled with a constant       |\n",
    "| `arange()`         | Range of evenly spaced values      |\n",
    "| `linspace()`       | Evenly spaced values over interval |\n",
    "| `eye()`            | Identity matrix                    |\n",
    "| `random.rand()`    | Random values in \\[0, 1)           |\n",
    "| `random.randint()` | Random integers                    |\n"
   ]
  },
  {
   "cell_type": "markdown",
   "id": "1c11d874-4af1-4375-85d2-40d8cf9e5481",
   "metadata": {},
   "source": [
    "### ```np.arange(start,end)```  Creates array from start to end-1"
   ]
  },
  {
   "cell_type": "code",
   "execution_count": 5,
   "id": "dfa68977-ba1c-46ee-a054-e4ca7f56c51c",
   "metadata": {},
   "outputs": [
    {
     "name": "stdout",
     "output_type": "stream",
     "text": [
      "✅ WakaTime heartbeat sent at 1751466387.119684\n"
     ]
    },
    {
     "data": {
      "text/plain": [
       "array([0, 1, 2, 3, 4, 5, 6, 7, 8, 9])"
      ]
     },
     "execution_count": 5,
     "metadata": {},
     "output_type": "execute_result"
    }
   ],
   "source": [
    "np.arange(0,10) "
   ]
  },
  {
   "cell_type": "markdown",
   "id": "a5a0df60-6db5-4353-8b89-30b4672b8b09",
   "metadata": {},
   "source": [
    "### ```np.arange(start,end,skip)``` Creates array from start to end-1 with a interval of skip"
   ]
  },
  {
   "cell_type": "code",
   "execution_count": 6,
   "id": "e6f70b01-3b0e-4681-a85f-a33acd5aee29",
   "metadata": {},
   "outputs": [
    {
     "name": "stdout",
     "output_type": "stream",
     "text": [
      "✅ WakaTime heartbeat sent at 1751466387.179007\n"
     ]
    },
    {
     "data": {
      "text/plain": [
       "array([0, 2, 4, 6, 8])"
      ]
     },
     "execution_count": 6,
     "metadata": {},
     "output_type": "execute_result"
    }
   ],
   "source": [
    "np.arange(0,10,2) "
   ]
  },
  {
   "cell_type": "markdown",
   "id": "02b4aa63-26b1-4504-99b6-1bec0a8e1d3f",
   "metadata": {},
   "source": [
    "### ```np.arange(end)``` Creates an array from 0 to end-1"
   ]
  },
  {
   "cell_type": "code",
   "execution_count": 7,
   "id": "f145a7b5-ed52-4cd1-8712-518836a451bf",
   "metadata": {},
   "outputs": [
    {
     "name": "stdout",
     "output_type": "stream",
     "text": [
      "✅ WakaTime heartbeat sent at 1751466387.269568\n"
     ]
    },
    {
     "data": {
      "text/plain": [
       "array([0, 1, 2, 3, 4, 5, 6, 7, 8, 9])"
      ]
     },
     "execution_count": 7,
     "metadata": {},
     "output_type": "execute_result"
    }
   ],
   "source": [
    "np.arange(10) "
   ]
  },
  {
   "cell_type": "markdown",
   "id": "9cacac13-963b-4e45-8a04-b78c5970949c",
   "metadata": {},
   "source": [
    "### ```np.eye(n)``` Creates an Identity Matrix of order n"
   ]
  },
  {
   "cell_type": "code",
   "execution_count": 8,
   "id": "d241b2ba-7530-4795-b2a9-619d500bbbc9",
   "metadata": {},
   "outputs": [
    {
     "name": "stdout",
     "output_type": "stream",
     "text": [
      "✅ WakaTime heartbeat sent at 1751466387.327212\n"
     ]
    },
    {
     "data": {
      "text/plain": [
       "array([[1., 0., 0., 0.],\n",
       "       [0., 1., 0., 0.],\n",
       "       [0., 0., 1., 0.],\n",
       "       [0., 0., 0., 1.]])"
      ]
     },
     "execution_count": 8,
     "metadata": {},
     "output_type": "execute_result"
    }
   ],
   "source": [
    "np.eye(4) "
   ]
  },
  {
   "cell_type": "markdown",
   "id": "3fe1123c-037d-455b-b452-1821bcfe68be",
   "metadata": {},
   "source": [
    "### ```np.zeros((M,N))```  Creates M x N matrix filled with zeroes"
   ]
  },
  {
   "cell_type": "markdown",
   "id": "82720730-cac6-4d37-8071-f8ede9b507d3",
   "metadata": {},
   "source": [
    "### The function np.zeros() takes a single argument called shape, which must be a tuple.\n",
    "| Syntax             | Meaning                                      | Valid?  |\n",
    "| ------------------ | -------------------------------------------- | ------- |\n",
    "| `np.zeros(4)`      | Creates a 1D array with 4 zeros              | ✅ Yes   |\n",
    "| `np.zeros((4, 3))` | Creates a 2D array with 4 rows and 3 columns | ✅ Yes   |\n",
    "| `np.zeros(4, 3)`   | Passes two arguments, not a tuple            | ❌ Error |\n"
   ]
  },
  {
   "cell_type": "code",
   "execution_count": 9,
   "id": "b402a132-e19f-40a1-ba44-dd4d36f27468",
   "metadata": {},
   "outputs": [
    {
     "name": "stdout",
     "output_type": "stream",
     "text": [
      "✅ WakaTime heartbeat sent at 1751466387.387961\n"
     ]
    },
    {
     "data": {
      "text/plain": [
       "array([[0., 0., 0.],\n",
       "       [0., 0., 0.],\n",
       "       [0., 0., 0.],\n",
       "       [0., 0., 0.]])"
      ]
     },
     "execution_count": 9,
     "metadata": {},
     "output_type": "execute_result"
    }
   ],
   "source": [
    "np.zeros((4,3)) "
   ]
  },
  {
   "cell_type": "markdown",
   "id": "c8f5530a-fa5f-4363-9885-8aa2f488a566",
   "metadata": {},
   "source": [
    "###  ``` no.ones((M,N)) ```  Creates M x N matrix filles with ones"
   ]
  },
  {
   "cell_type": "markdown",
   "id": "6d221284-a19b-4934-8e42-26e619ec1394",
   "metadata": {},
   "source": [
    "### The function np.ones() takes a single argument called shape, which must be a tuple.\n",
    "| Syntax             | Meaning                                      | Valid?  |\n",
    "| ------------------ | -------------------------------------------- | ------- |\n",
    "| `np.ones(4)`      | Creates a 1D array with 4 ones              | ✅ Yes   |\n",
    "| `np.ones((4, 3))` | Creates a 2D array with 4 rows and 3 columns | ✅ Yes   |\n",
    "| `np.ones(4, 3)`   | Passes two arguments, not a tuple            | ❌ Error |\n"
   ]
  },
  {
   "cell_type": "code",
   "execution_count": 10,
   "id": "3c7340d2-1cc2-40e7-bdf2-9d99b58e3455",
   "metadata": {},
   "outputs": [
    {
     "name": "stdout",
     "output_type": "stream",
     "text": [
      "✅ WakaTime heartbeat sent at 1751466387.446602\n"
     ]
    },
    {
     "data": {
      "text/plain": [
       "array([[1., 1., 1.],\n",
       "       [1., 1., 1.],\n",
       "       [1., 1., 1.],\n",
       "       [1., 1., 1.]])"
      ]
     },
     "execution_count": 10,
     "metadata": {},
     "output_type": "execute_result"
    }
   ],
   "source": [
    "np.ones((4,3)) "
   ]
  },
  {
   "cell_type": "markdown",
   "id": "04616be7-c568-4a8f-8bea-64b380b660f6",
   "metadata": {},
   "source": [
    "### ```np.full((M,N),X)``` Creates a M x N matrix filled with X"
   ]
  },
  {
   "cell_type": "code",
   "execution_count": 11,
   "id": "d6a49066-13da-4a33-8fa8-7b7fe2c63725",
   "metadata": {},
   "outputs": [
    {
     "name": "stdout",
     "output_type": "stream",
     "text": [
      "✅ WakaTime heartbeat sent at 1751466387.504558\n"
     ]
    },
    {
     "data": {
      "text/plain": [
       "array([['a', 'a', 'a'],\n",
       "       ['a', 'a', 'a'],\n",
       "       ['a', 'a', 'a'],\n",
       "       ['a', 'a', 'a']], dtype='<U1')"
      ]
     },
     "execution_count": 11,
     "metadata": {},
     "output_type": "execute_result"
    }
   ],
   "source": [
    "np.full((4,3),'a')"
   ]
  },
  {
   "cell_type": "code",
   "execution_count": 12,
   "id": "bd8dd1ff-6838-4817-b525-3839086c3c89",
   "metadata": {},
   "outputs": [
    {
     "name": "stdout",
     "output_type": "stream",
     "text": [
      "✅ WakaTime heartbeat sent at 1751466387.564534\n"
     ]
    },
    {
     "data": {
      "text/plain": [
       "array([[7, 7, 7],\n",
       "       [7, 7, 7],\n",
       "       [7, 7, 7],\n",
       "       [7, 7, 7]])"
      ]
     },
     "execution_count": 12,
     "metadata": {},
     "output_type": "execute_result"
    }
   ],
   "source": [
    "np.full((4,3),7)"
   ]
  },
  {
   "cell_type": "markdown",
   "id": "e1067bf2-f02a-4e3d-9cbe-6a48907d61d5",
   "metadata": {},
   "source": [
    "### ```np.linspace(start,end)``` Returns evenly spaced numbers over a range from start to end.\n",
    "numpy.linspace(start, stop, num)\n",
    "| Parameter | Description                                  |\n",
    "| --------- | -------------------------------------------- |\n",
    "| `start`   | The starting value of the sequence           |\n",
    "| `stop`    | The ending value of the sequence             |\n",
    "| `num`     | Number of values to generate (default is 50) |\n"
   ]
  },
  {
   "cell_type": "code",
   "execution_count": 13,
   "id": "618b0db1-d31b-4150-8b39-617988429cd6",
   "metadata": {},
   "outputs": [
    {
     "name": "stdout",
     "output_type": "stream",
     "text": [
      "✅ WakaTime heartbeat sent at 1751466387.621428\n"
     ]
    },
    {
     "data": {
      "text/plain": [
       "array([ 1.   ,  1.375,  1.75 ,  2.125,  2.5  ,  2.875,  3.25 ,  3.625,\n",
       "        4.   ,  4.375,  4.75 ,  5.125,  5.5  ,  5.875,  6.25 ,  6.625,\n",
       "        7.   ,  7.375,  7.75 ,  8.125,  8.5  ,  8.875,  9.25 ,  9.625,\n",
       "       10.   ])"
      ]
     },
     "execution_count": 13,
     "metadata": {},
     "output_type": "execute_result"
    }
   ],
   "source": [
    "np.linspace(1,10,25)"
   ]
  },
  {
   "cell_type": "code",
   "execution_count": 14,
   "id": "9a4f634c-bc64-430c-aebc-4d163242fb6e",
   "metadata": {},
   "outputs": [
    {
     "name": "stdout",
     "output_type": "stream",
     "text": [
      "✅ WakaTime heartbeat sent at 1751466387.678134\n"
     ]
    },
    {
     "data": {
      "text/plain": [
       "array([  0.        ,   2.04081633,   4.08163265,   6.12244898,\n",
       "         8.16326531,  10.20408163,  12.24489796,  14.28571429,\n",
       "        16.32653061,  18.36734694,  20.40816327,  22.44897959,\n",
       "        24.48979592,  26.53061224,  28.57142857,  30.6122449 ,\n",
       "        32.65306122,  34.69387755,  36.73469388,  38.7755102 ,\n",
       "        40.81632653,  42.85714286,  44.89795918,  46.93877551,\n",
       "        48.97959184,  51.02040816,  53.06122449,  55.10204082,\n",
       "        57.14285714,  59.18367347,  61.2244898 ,  63.26530612,\n",
       "        65.30612245,  67.34693878,  69.3877551 ,  71.42857143,\n",
       "        73.46938776,  75.51020408,  77.55102041,  79.59183673,\n",
       "        81.63265306,  83.67346939,  85.71428571,  87.75510204,\n",
       "        89.79591837,  91.83673469,  93.87755102,  95.91836735,\n",
       "        97.95918367, 100.        ])"
      ]
     },
     "execution_count": 14,
     "metadata": {},
     "output_type": "execute_result"
    }
   ],
   "source": [
    "np.linspace(0,100)"
   ]
  },
  {
   "cell_type": "markdown",
   "id": "f85aa02b-b913-4d01-978e-3a32f6d72775",
   "metadata": {},
   "source": [
    "\n",
    "###  `np.empty(shape, dtype=float)`\n",
    "\n",
    "- 🔹 Creates an uninitialized array of given shape and dtype.\n",
    "- 🔸 Values are random **garbage** left in memory — **not zeros**.\n"
   ]
  },
  {
   "cell_type": "code",
   "execution_count": 26,
   "id": "a72d2214-0dac-491a-96c3-fb2be7cebf7e",
   "metadata": {},
   "outputs": [
    {
     "name": "stdout",
     "output_type": "stream",
     "text": [
      "✅ WakaTime heartbeat sent at 1751467012.9859\n",
      "[[4.9e-324 9.9e-324 1.5e-323]\n",
      " [2.0e-323 2.5e-323 3.0e-323]]\n"
     ]
    }
   ],
   "source": [
    "arr = np.empty((2, 3))\n",
    "print(arr)"
   ]
  },
  {
   "cell_type": "markdown",
   "id": "b3b447af-5ddc-4d44-970c-14340457c829",
   "metadata": {},
   "source": [
    "###  `np.random.rand(d0, d1, ..., dn)`\n",
    "\n",
    "- 🔹 Returns random **float values** in the range **[0.0, 1.0)**.\n",
    "- 🔸 Shape is provided as **multiple arguments**, not a tuple.\n"
   ]
  },
  {
   "cell_type": "code",
   "execution_count": 27,
   "id": "1b60900b-81d6-49cf-8cd1-71df7fce7903",
   "metadata": {},
   "outputs": [
    {
     "name": "stdout",
     "output_type": "stream",
     "text": [
      "✅ WakaTime heartbeat sent at 1751467016.670408\n",
      "[[0.95116826 0.0847772  0.28141995]\n",
      " [0.60709169 0.80699476 0.41675391]]\n"
     ]
    }
   ],
   "source": [
    "arr = np.random.rand(2, 3)\n",
    "print(arr)"
   ]
  },
  {
   "cell_type": "markdown",
   "id": "0e719331-56e2-4a38-a7a5-c5128ecd90ac",
   "metadata": {},
   "source": [
    "### 🎲 `np.random.randint(low, high=None, size=None, dtype=int)`\n",
    "\n",
    "- 🔹 Returns random **integers** from `low` (inclusive) to `high` (exclusive).\n",
    "- 🔸 If `high` is `None`, it returns values from `0` to `low`.\n",
    "- 📌 You can specify `size` as an int or a tuple to get arrays.\n"
   ]
  },
  {
   "cell_type": "code",
   "execution_count": 31,
   "id": "649a093a-b196-4633-b309-ce420a9b6c9b",
   "metadata": {},
   "outputs": [
    {
     "name": "stdout",
     "output_type": "stream",
     "text": [
      "✅ WakaTime heartbeat sent at 1751467092.344091\n",
      "[[48 41 21 23]\n",
      " [18 40 38 20]]\n"
     ]
    }
   ],
   "source": [
    "arr = np.random.randint(10, 50, size=(2, 4))\n",
    "print(arr)"
   ]
  },
  {
   "cell_type": "code",
   "execution_count": null,
   "id": "9659a1f7-1043-47bb-9c09-cf33d4b20227",
   "metadata": {},
   "outputs": [],
   "source": [
    "arr = np.random.randint(5, size=4)  # From 0 to 4\n",
    "print(arr)\n"
   ]
  },
  {
   "cell_type": "markdown",
   "id": "42e2e617-95bd-4031-a2e5-25ec0cba6edf",
   "metadata": {},
   "source": [
    "## ‼️Tip: Always seed with `np.random.seed(0)` for reproducible results.\n",
    "### More details in ```RandomSeed.ipynb```"
   ]
  },
  {
   "cell_type": "markdown",
   "id": "67c8c0c3",
   "metadata": {},
   "source": [
    "# Array Attributes\n",
    "| **Attribute** | **Description**                           | **Example Output** | **For Array** `[[1, 2, 3], [4, 5, 6]]` |\n",
    "| ------------- | ----------------------------------------- | ------------------ | -------------------------------------- |\n",
    "| `arr.shape`   | Tuple showing the dimensions (rows, cols) | `(2, 3)`           | 2 rows × 3 columns                     |\n",
    "| `arr.size`    | Total number of elements                  | `6`                | 2 × 3 = 6 elements                     |\n",
    "| `arr.dtype`   | Data type of elements                     | `int64` / `int32`  | Based on system architecture           |\n",
    "| `arr.ndim`    | Number of dimensions (axes)               | `2`                | It's a 2D array                        |"
   ]
  },
  {
   "cell_type": "code",
   "execution_count": 15,
   "id": "249afaa6-20e9-4d93-bf46-930ce015b7bc",
   "metadata": {},
   "outputs": [
    {
     "name": "stdout",
     "output_type": "stream",
     "text": [
      "✅ WakaTime heartbeat sent at 1751466387.736505\n",
      "(2, 3)\n",
      "6\n",
      "int64\n",
      "2\n"
     ]
    }
   ],
   "source": [
    "arr = np.array([[10,20,30],[40,50,60]])\n",
    "print(arr.shape)\n",
    "print(arr.size)\n",
    "print(arr.dtype)\n",
    "print(arr.ndim)"
   ]
  },
  {
   "cell_type": "code",
   "execution_count": 16,
   "id": "6e6aaf1e-4f71-468a-b861-35b4801b64a5",
   "metadata": {},
   "outputs": [
    {
     "name": "stdout",
     "output_type": "stream",
     "text": [
      "✅ WakaTime heartbeat sent at 1751466387.789424\n",
      "(3,)\n",
      "3\n",
      "int64\n",
      "1\n"
     ]
    }
   ],
   "source": [
    "arr = np.array([10,20,30])\n",
    "print(arr.shape)\n",
    "print(arr.size)\n",
    "print(arr.dtype)\n",
    "print(arr.ndim)"
   ]
  },
  {
   "cell_type": "code",
   "execution_count": 17,
   "id": "0073fc86-7efc-4a74-b284-60548ecef128",
   "metadata": {},
   "outputs": [
    {
     "name": "stdout",
     "output_type": "stream",
     "text": [
      "✅ WakaTime heartbeat sent at 1751466387.844387\n",
      "(3,)\n",
      "3\n",
      "<U21\n",
      "1\n"
     ]
    }
   ],
   "source": [
    "arr = np.array([1,2,'a'])\n",
    "print(arr.shape)\n",
    "print(arr.size)\n",
    "print(arr.dtype)\n",
    "print(arr.ndim)"
   ]
  },
  {
   "cell_type": "code",
   "execution_count": 18,
   "id": "98d374fc-9b03-41e1-a938-f12503d672aa",
   "metadata": {},
   "outputs": [
    {
     "name": "stdout",
     "output_type": "stream",
     "text": [
      "✅ WakaTime heartbeat sent at 1751466387.896658\n",
      "(2,)\n",
      "2\n",
      "<U1\n",
      "1\n"
     ]
    }
   ],
   "source": [
    "arr = np.array(['1','a'])\n",
    "print(arr.shape)\n",
    "print(arr.size)\n",
    "print(arr.dtype)\n",
    "print(arr.ndim)"
   ]
  },
  {
   "cell_type": "code",
   "execution_count": 19,
   "id": "14be457f-42f1-481b-a2bb-4409b4642b9e",
   "metadata": {},
   "outputs": [
    {
     "name": "stdout",
     "output_type": "stream",
     "text": [
      "✅ WakaTime heartbeat sent at 1751466387.951427\n",
      "Shape: (2, 4)\n",
      "Size: 8\n",
      "Dimensions: 2\n",
      "Data type: <U21\n"
     ]
    }
   ],
   "source": [
    "arr = np.array([[10, 20, 30,\"Divyansh\"], [40, 50, 60,45]])\n",
    "\n",
    "print(\"Shape:\", arr.shape)  \n",
    "print(\"Size:\", arr.size)     \n",
    "print(\"Dimensions:\", arr.ndim) \n",
    "print(\"Data type:\", arr.dtype) \n",
    "\n",
    "# < → Little-endian byte order (relevant for binary data; for strings it's not very important)\n",
    "\n",
    "# U → Unicode string type (each element is a string)\n",
    "\n",
    "# 21 → Each string can be up to 21 Unicode characters long"
   ]
  },
  {
   "cell_type": "markdown",
   "id": "130da5b7-e5b3-4645-a68f-dbb84f54ca58",
   "metadata": {},
   "source": [
    "# 🧠 NumPy Data Types \n",
    "\n",
    "NumPy arrays store data with a specific **dtype** (data type) for performance and memory efficiency.\n",
    "\n",
    "---\n",
    "\n",
    "## 1. Integer Types\n",
    "\n",
    "| Type     | Description             | Range (Signed)       | Example |\n",
    "|----------|-------------------------|-----------------------|---------|\n",
    "| int8     | 8-bit signed integer    | -128 to 127           | `np.array([1], dtype='int8')` |\n",
    "| int16    | 16-bit signed integer   | -32,768 to 32,767     | `np.array([1], dtype='int16')` |\n",
    "| int32    | 32-bit signed integer   | ~±2 Billion           | `np.array([1], dtype='int32')` |\n",
    "| int64    | 64-bit signed integer   | Huge integer support  | `np.array([1], dtype='int64')` |\n",
    "| uint8–64 | Unsigned versions       | 0 to 255/65535/...    | `np.array([255], dtype='uint8')` |\n",
    "\n",
    "---\n",
    "\n",
    "## 2. Floating Point Types\n",
    "\n",
    "| Type      | Precision       | Example |\n",
    "|-----------|------------------|---------|\n",
    "| float16   | Half precision   | `np.array([3.14], dtype='float16')` |\n",
    "| float32   | Single precision | `np.array([3.14], dtype='float32')` |\n",
    "| float64   | Double precision | `np.array([3.14], dtype='float64')` |\n",
    "\n",
    "---\n",
    "\n",
    "## 3. Complex Number Types\n",
    "\n",
    "| Type        | Description            | Example |\n",
    "|-------------|------------------------|---------|\n",
    "| complex64   | 2 × float32            | `np.array([1+2j], dtype='complex64')` |\n",
    "| complex128  | 2 × float64            | `np.array([1+2j], dtype='complex128')` |\n",
    "\n",
    "---\n",
    "\n",
    "## 4. String Types\n",
    "\n",
    "| Type     | Description            | Example |\n",
    "|----------|------------------------|---------|\n",
    "| str_     | Unicode string         | `np.array(['hello'], dtype='U5')` |\n",
    "| bytes_   | ASCII/Byte string      | `np.array([b'hi'], dtype='S2')` |\n",
    "\n",
    "- Unicode string dtype: `'U5'` → 5-character max\n",
    "- Byte string dtype: `'S5'` → 5-byte ASCII max\n",
    "\n",
    "---\n",
    "\n",
    "## 5. Boolean Type\n",
    "\n",
    "| Type     | Description      | Example |\n",
    "|----------|------------------|---------|\n",
    "| bool_    | True / False     | `np.array([True, False], dtype='bool')` |\n",
    "\n",
    "---\n",
    "\n",
    "## 6. Date and Time Types\n",
    "\n",
    "| Type         | Description             | Example |\n",
    "|--------------|-------------------------|---------|\n",
    "| datetime64   | Date/time value         | `np.array(['2025-01-01'], dtype='datetime64[D]')` |\n",
    "| timedelta64  | Time duration           | `np.array([np.datetime64('2025-01-02') - np.datetime64('2025-01-01')])` |\n",
    "\n",
    "---\n",
    "\n",
    "# .dtype – Checking Data Type\n",
    "\n",
    "```python\n",
    "a = np.array([1, 2, 3])\n",
    "print(a.dtype)  # Output: int64 (or int32)\n",
    "````\n",
    "\n",
    "---\n",
    "\n",
    "# .astype() – Typecasting After Creation\n",
    "\n",
    "```python\n",
    "a = np.array([1.5, 2.8])\n",
    "b = a.astype(int)      # [1 2]\n",
    "c = a.astype('float32')  # [1.5 2.8]\n",
    "d = a.astype(bool)     # [True True]\n",
    "```\n",
    "\n",
    "---\n",
    "\n",
    "# dtype vs astype\n",
    "\n",
    "| Method      | Purpose                     | When Used                       |\n",
    "| ----------- | --------------------------- | ------------------------------- |\n",
    "| `dtype=...` | Typecast **at creation**    | `np.array([...], dtype='int8')` |\n",
    "| `.astype()` | Typecast **after creation** | `arr.astype('float64')`         |\n",
    "\n",
    "# 🔁 `.dtype` vs `.astype()` in NumPy – Comparison Table\n",
    "\n",
    "| Feature               | `.dtype`                          | `.astype()`                           |\n",
    "|-----------------------|-----------------------------------|----------------------------------------|\n",
    "| Purpose            | Check data type of array          | Convert array to a different data type |\n",
    "|  Typecasts            | At Creation                       | After Creation                         |\n",
    "| Returns            | Data type (e.g., `int64`, `float32`) | A new array with changed data type     |\n",
    "| Does it modify array? | No                            | No (returns a copy)                  |\n",
    "| Usage Example      | `arr.dtype`                       | `arr.astype('float32')`                |\n",
    "| Example Output     | `'int32'`, `'float64'`, `'bool'`  | New array with converted values        |\n",
    "| Common Use Cases   | Debugging, type checks            | Type casting, preparing data           |\n",
    "\n",
    "---\n",
    "\n",
    "# Mixed-Type Input\n",
    "\n",
    "```python\n",
    "np.array([1, 2.5, 'hello'])  # dtype='<U32' (string)\n",
    "```\n",
    "\n",
    "NumPy will upcast to the most general type (e.g., all to string).\n",
    "\n",
    "---\n",
    "\n",
    "# 📦 Summary\n",
    "\n",
    "* Use `.dtype` to check type\n",
    "* Use `dtype='...'` or `.astype(...)` to control type\n",
    "* NumPy arrays are **homogeneous** (all elements same type)\n",
    "* String and date types are **fixed-width**\n",
    "\n",
    "---\n"
   ]
  },
  {
   "cell_type": "markdown",
   "id": "2e4c47bd-d403-4d08-8d2d-f0474081db4d",
   "metadata": {},
   "source": [
    "## `dtype` — **At the Time of Array Creation**"
   ]
  },
  {
   "cell_type": "code",
   "execution_count": 20,
   "id": "9369674f-3911-4744-819d-71c162a227aa",
   "metadata": {},
   "outputs": [
    {
     "name": "stdout",
     "output_type": "stream",
     "text": [
      "✅ WakaTime heartbeat sent at 1751466388.005387\n",
      "Array: [1 2 3]\n",
      "Data type: int32\n"
     ]
    }
   ],
   "source": [
    "# Create array with dtype specified at creation\n",
    "arr = np.array([1.5, 2.7, 3.9], dtype='int32')\n",
    "\n",
    "print(\"Array:\", arr)          # Output: [1 2 3]\n",
    "print(\"Data type:\", arr.dtype)  # Output: int32\n",
    "\n",
    "# Here, `dtype='int32'` tells NumPy to convert float values to integers **while creating** the array.\n"
   ]
  },
  {
   "cell_type": "markdown",
   "id": "489ffa09-e034-462b-9c02-67eb66979125",
   "metadata": {},
   "source": [
    "## `.astype()` — **After Array Creation**"
   ]
  },
  {
   "cell_type": "code",
   "execution_count": 21,
   "id": "a19a7387-199f-4c94-9e19-dbd1128474ad",
   "metadata": {},
   "outputs": [
    {
     "name": "stdout",
     "output_type": "stream",
     "text": [
      "✅ WakaTime heartbeat sent at 1751466388.058295\n",
      "Original array: [1.5 2.7 3.9]\n",
      "Converted array: [1 2 3]\n",
      "Converted type: int32\n"
     ]
    }
   ],
   "source": [
    "# Create a float array (default)\n",
    "arr = np.array([1.5, 2.7, 3.9])\n",
    "\n",
    "# Convert data type after creation\n",
    "converted = arr.astype('int32')\n",
    "\n",
    "print(\"Original array:\", arr)           \n",
    "print(\"Converted array:\", converted)    \n",
    "print(\"Converted type:\", converted.dtype) \n",
    "\n",
    "# `.astype()` is used **after the array is already created**, and returns a **new array** with the new data type.\n"
   ]
  },
  {
   "cell_type": "markdown",
   "id": "097b8114-8423-456a-a77e-3c7fb01ee27c",
   "metadata": {},
   "source": [
    "# Array Transformation and copy methods\n",
    "\n",
    "| Method               | Description                              |\n",
    "| -------------------- | ---------------------------------------- |\n",
    "| `reshape()`          | Change the shape of the array            |\n",
    "| `ravel()`            | Flatten to 1D (returns view if possible) |\n",
    "| `flatten()`          | Flatten to 1D (always returns copy)      |\n",
    "| `resize()`           | Resize the array in-place                |\n",
    "| `transpose()` / `.T` | Swap axes / transpose matrix             |\n",
    "| `squeeze()`          | Remove dimensions of size 1              |\n",
    "| `expand_dims()`      | Add an axis at a specified position      |\n",
    "| `swapaxes()`         | Swap two axes                            |\n",
    "| `moveaxis()`         | Move axes to new positions               |\n",
    "\n",
    "---\n",
    "\n",
    "## `reshape()` – Change Array Shape\n",
    "\n",
    "| Feature          | Description                                      |\n",
    "|------------------|--------------------------------------------------|\n",
    "| Purpose          | Reshape array without changing data              |\n",
    "| Return Type      | View (if possible)                               |\n",
    "| Requirement      | Total elements must match                        |\n",
    "\n"
   ]
  },
  {
   "cell_type": "code",
   "execution_count": 38,
   "id": "46cd1c65-c840-4ceb-bc9d-b7db3b2d2e24",
   "metadata": {},
   "outputs": [
    {
     "name": "stdout",
     "output_type": "stream",
     "text": [
      "✅ WakaTime heartbeat sent at 1751467952.534928\n",
      "[[1 2 3]\n",
      " [4 5 6]]\n"
     ]
    }
   ],
   "source": [
    "a = np.array([1, 2, 3, 4, 5, 6])\n",
    "b = a.reshape(2, 3)\n",
    "\n",
    "print(b)"
   ]
  },
  {
   "cell_type": "markdown",
   "id": "5eb18dd5-b5bb-4722-aef7-db531253ab72",
   "metadata": {},
   "source": [
    "## `flatten()` – Flatten to 1D (Always Copy)\n",
    "\n",
    "| Feature          | Description                                      |\n",
    "|------------------|--------------------------------------------------|\n",
    "| Purpose          | Convert multi-dimensional array to 1D           |\n",
    "| Return Type      | Always returns a **copy**                        |\n",
    "| Affects Original?| ❌ No                                            |"
   ]
  },
  {
   "cell_type": "code",
   "execution_count": 23,
   "id": "b546c640-e709-4698-9737-e7f26585c13a",
   "metadata": {},
   "outputs": [
    {
     "name": "stdout",
     "output_type": "stream",
     "text": [
      "✅ WakaTime heartbeat sent at 1751466388.168519\n",
      "[[1 2]\n",
      " [3 4]]\n",
      "[100   2   3   4]\n"
     ]
    }
   ],
   "source": [
    "a = np.array([[1, 2], [3, 4]])\n",
    "b = a.flatten()\n",
    "b[0] = 100\n",
    "\n",
    "print(a)  # Original unchanged\n",
    "print(b)  # [100   2   3   4]"
   ]
  },
  {
   "cell_type": "markdown",
   "id": "cc26d2fe-f640-405b-8eef-fc7cb18fbbc3",
   "metadata": {},
   "source": [
    "## `ravel()` – Flatten to 1D (View if Possible)\n",
    "\n",
    "| Feature          | Description                                      |\n",
    "|------------------|--------------------------------------------------|\n",
    "| Purpose          | Flatten like `flatten()` but returns a **view** if possible |\n",
    "| Return Type      | View (if memory is contiguous)                   |\n",
    "| Affects Original?| ✅ Yes (if view)                                 |"
   ]
  },
  {
   "cell_type": "code",
   "execution_count": 24,
   "id": "1f978f3e-7f9a-46f2-a567-34a8f0e090e4",
   "metadata": {},
   "outputs": [
    {
     "name": "stdout",
     "output_type": "stream",
     "text": [
      "✅ WakaTime heartbeat sent at 1751466388.222332\n",
      "[[99  2]\n",
      " [ 3  4]]\n",
      "[99  2  3  4]\n"
     ]
    }
   ],
   "source": [
    "a = np.array([[1, 2], [3, 4]])\n",
    "b = a.ravel()\n",
    "b[0] = 99\n",
    "\n",
    "print(a)  # [[99  2]\n",
    "          #  [ 3  4]]\n",
    "print(b)  # [99  2  3  4]"
   ]
  },
  {
   "cell_type": "markdown",
   "id": "c769f38d-62d8-4032-a22c-e72fad774079",
   "metadata": {},
   "source": [
    "## `copy()` – Create an Independent Clone\n",
    "\n",
    "| Feature          | Description                                      |\n",
    "|------------------|--------------------------------------------------|\n",
    "| Purpose          | Duplicate array with a separate memory           |\n",
    "| Return Type      | Copy                                             |\n",
    "| Affects Original?| ❌ No                                            |"
   ]
  },
  {
   "cell_type": "code",
   "execution_count": 25,
   "id": "e47def0e-5fea-48a7-9d50-14b85dd0987d",
   "metadata": {},
   "outputs": [
    {
     "name": "stdout",
     "output_type": "stream",
     "text": [
      "✅ WakaTime heartbeat sent at 1751466388.280153\n",
      "[10 20 30]\n",
      "[999  20  30]\n"
     ]
    }
   ],
   "source": [
    "a = np.array([10, 20, 30])\n",
    "b = a.copy()\n",
    "b[0] = 999\n",
    "\n",
    "print(a)  # [10 20 30]\n",
    "print(b)  # [999 20 30]"
   ]
  },
  {
   "cell_type": "markdown",
   "id": "16656e1b-1072-4de6-bf69-140f8c65590b",
   "metadata": {},
   "source": [
    "## `resize()`\n",
    "\n",
    "- 🔹 Modifies the array **in-place** to a new shape.\n",
    "- 🔸 Fills extra space with **repeated elements** (if needed)."
   ]
  },
  {
   "cell_type": "code",
   "execution_count": 41,
   "id": "57506957-11c1-45c2-b14d-a3bb56330858",
   "metadata": {},
   "outputs": [
    {
     "name": "stdout",
     "output_type": "stream",
     "text": [
      "✅ WakaTime heartbeat sent at 1751468056.725346\n",
      "None\n"
     ]
    }
   ],
   "source": [
    "a = np.array([1, 2, 3, 4])\n",
    "b=a.resize((2, 3))\n",
    "print(a)"
   ]
  },
  {
   "cell_type": "markdown",
   "id": "fd188dc8-4411-4b62-aa46-c634c3a281f7",
   "metadata": {},
   "source": [
    "## 🔍 Comparison Summary\n",
    "\n",
    "| Method     | Purpose              | Returns   | Affects Original | Memory Efficient |\n",
    "|------------|----------------------|-----------|------------------|------------------|\n",
    "| `reshape()`| Change shape         | View (if possible) | ✅ Yes (if view) | ✅ Yes |\n",
    "| `flatten()`| Flatten to 1D        | Copy      | ❌ No            | ❌ No  |\n",
    "| `ravel()`  | Flatten to 1D        | View (if possible) | ✅ Yes (if view) | ✅ Yes |\n",
    "| `copy()`   | Duplicate array      | Copy      | ❌ No            | ❌ No  |\n",
    "\n",
    "**Tip:** Use `.flags` on any array to check if it's writable, a view, and more:"
   ]
  },
  {
   "cell_type": "code",
   "execution_count": null,
   "id": "914eb8e1-a98e-4495-88e4-d70cb10da353",
   "metadata": {},
   "outputs": [],
   "source": []
  }
 ],
 "metadata": {
  "kernelspec": {
   "display_name": "Python 3 (ipykernel)",
   "language": "python",
   "name": "python3"
  },
  "language_info": {
   "codemirror_mode": {
    "name": "ipython",
    "version": 3
   },
   "file_extension": ".py",
   "mimetype": "text/x-python",
   "name": "python",
   "nbconvert_exporter": "python",
   "pygments_lexer": "ipython3",
   "version": "3.11.13"
  }
 },
 "nbformat": 4,
 "nbformat_minor": 5
}
