{
 "cells": [
  {
   "cell_type": "code",
   "execution_count": 1,
   "id": "86abca91-feaa-4fb1-8655-d310c4f59ec1",
   "metadata": {},
   "outputs": [],
   "source": [
    "import subprocess\n",
    "from datetime import datetime\n",
    "from IPython import get_ipython\n",
    "\n",
    "# --- CONFIGURATION ---\n",
    "NOTEBOOK_NAME = \"Slicing_and_Indexing.ipynb\"\n",
    "PLUGIN_NAME = \"jupyterlab/4.0.0\"\n",
    "LANGUAGE = \"Python\"\n",
    "# ----------------------\n",
    "\n",
    "def log_to_wakatime():\n",
    "    timestamp = str(datetime.utcnow().timestamp())\n",
    "    result = subprocess.run([\n",
    "        \"wakatime-cli\",\n",
    "        \"--entity\", NOTEBOOK_NAME,\n",
    "        \"--entity-type\", \"file\",\n",
    "        \"--plugin\", PLUGIN_NAME,\n",
    "        \"--language\", LANGUAGE,\n",
    "        \"--write\",\n",
    "        \"--time\", timestamp\n",
    "    ], capture_output=True, text=True)\n",
    "\n",
    "    if result.returncode != 0:\n",
    "        print(\"❌ WakaTime CLI Error:\")\n",
    "        print(\"STDOUT:\", result.stdout)\n",
    "        print(\"STDERR:\", result.stderr)\n",
    "    else:\n",
    "        print(\"✅ WakaTime heartbeat sent at\", timestamp)\n",
    "\n",
    "def on_cell_run(execution_info):\n",
    "    log_to_wakatime()\n",
    "\n",
    "# Clear broken old handlers (if rerunning)\n",
    "ip = get_ipython()\n",
    "for cb in list(ip.events.callbacks['pre_run_cell']):\n",
    "    if cb.__name__ == \"<lambda>\":\n",
    "        ip.events.unregister('pre_run_cell', cb)\n",
    "\n",
    "ip.events.register('pre_run_cell', on_cell_run)\n"
   ]
  },
  {
   "cell_type": "code",
   "execution_count": 2,
   "id": "2e215f87-0254-42a3-a96c-e1c3b325d1aa",
   "metadata": {},
   "outputs": [
    {
     "name": "stdout",
     "output_type": "stream",
     "text": [
      "✅ WakaTime heartbeat sent at 1751520831.486131\n"
     ]
    }
   ],
   "source": [
    "import numpy as np "
   ]
  },
  {
   "cell_type": "markdown",
   "id": "bd256005-409f-4c2d-b2de-1a5b4f5414ac",
   "metadata": {},
   "source": [
    "# Indexing and Slicing\n",
    "\n",
    "* Used to **access and manipulate** parts of an array.\n",
    "* Works for both 1D and multi-dimensional arrays.\n",
    "\n",
    "### Syntax:\n",
    "\n",
    "```python\n",
    "array[start:stop:step]      # slicing\n",
    "array[index]                # indexing\n",
    "array[row_index, col_index] # 2D indexing\n",
    "```\n"
   ]
  },
  {
   "cell_type": "code",
   "execution_count": 3,
   "id": "b5d014f0-7c41-424c-81fc-390404c5f66b",
   "metadata": {},
   "outputs": [
    {
     "name": "stdout",
     "output_type": "stream",
     "text": [
      "✅ WakaTime heartbeat sent at 1751520831.572501\n",
      "10\n",
      "[20 30]\n",
      "[40 30 20 10]\n",
      "4\n",
      "4\n"
     ]
    }
   ],
   "source": [
    "a = np.array([10, 20, 30, 40])\n",
    "print(a[0])        \n",
    "print(a[1:3])      \n",
    "print(a[::-1])     \n",
    "\n",
    "b = np.array([[1, 2], [3, 4]])\n",
    "print(b[1][1])     # \n",
    "print(b[1, 1])     # (more efficient)"
   ]
  },
  {
   "cell_type": "code",
   "execution_count": 13,
   "id": "1389ae40-92de-418d-b2d7-26b1a407caf2",
   "metadata": {},
   "outputs": [
    {
     "name": "stdout",
     "output_type": "stream",
     "text": [
      "✅ WakaTime heartbeat sent at 1751521628.658937\n",
      "[[1 2 3]\n",
      " [4 5 6]\n",
      " [7 8 9]] \n",
      "\n",
      "[12 15 18] \n",
      "\n",
      "[ 6 15 24] \n",
      "\n"
     ]
    }
   ],
   "source": [
    "arr = np.array([[1, 2, 3], \n",
    "                [4, 5, 6], \n",
    "                [7, 8, 9]])\n",
    " \n",
    "print(arr,\"\\n\")\n",
    "print(np.sum(arr, axis=0),\"\\n\")  # Sum along rows (down each column)\n",
    "print(np.sum(arr, axis=1),\"\\n\")  # Sum along columns (across each row)"
   ]
  },
  {
   "cell_type": "code",
   "execution_count": 17,
   "id": "535905b8-cd8d-4a98-ba0b-a18c8d380fcd",
   "metadata": {},
   "outputs": [
    {
     "name": "stdout",
     "output_type": "stream",
     "text": [
      "✅ WakaTime heartbeat sent at 1751521720.189946\n",
      "6\n",
      "[[2 3]\n",
      " [5 6]]\n"
     ]
    }
   ],
   "source": [
    "# Accessing an element\n",
    "print(arr[1, 2]) # Row index 1, Column index 2 → Output: 6\n",
    "print(arr[0:2, 1:3])  # Extracts first 2 rows and last 2 columns"
   ]
  },
  {
   "cell_type": "code",
   "execution_count": 18,
   "id": "c0654e73-f415-423c-ad06-f29b7995d291",
   "metadata": {},
   "outputs": [
    {
     "name": "stdout",
     "output_type": "stream",
     "text": [
      "✅ WakaTime heartbeat sent at 1751522959.121312\n",
      "(2, 2, 3)\n",
      "6\n",
      "[[1 2 3]\n",
      " [7 8 9]]\n"
     ]
    }
   ],
   "source": [
    "arr3D = np.array([[[1, 2, 3], [4, 5, 6]],\n",
    "                  [[7, 8, 9], [10, 11, 12]]])\n",
    "\n",
    "# Output of arr3D.shape is → (depth, rows, columns)\n",
    "print(arr3D.shape)  # Output: (2, 2, 3) \n",
    "\n",
    "# First sheet, second row, third column\n",
    "print(arr3D[0, 1, 2])  # Output: 6\n",
    "\n",
    "print(arr3D[:, 0, :])   # Get the first row from both sheets"
   ]
  },
  {
   "cell_type": "code",
   "execution_count": 19,
   "id": "654dc5d8-591c-485d-b89d-876056120819",
   "metadata": {},
   "outputs": [
    {
     "name": "stdout",
     "output_type": "stream",
     "text": [
      "✅ WakaTime heartbeat sent at 1751523135.67189\n",
      "[1 4 7]\n",
      "[[1 2 3]\n",
      " [7 8 9]]\n"
     ]
    }
   ],
   "source": [
    "# Get all rows of the first column\n",
    "first_col = arr[:, 0]\n",
    "print(first_col)  # Output: [1 4 7]\n",
    "\n",
    "# Get the first row from each \"sheet\" in a 3D array\n",
    "first_rows = arr3D[:, 0, :]\n",
    "print(first_rows)"
   ]
  },
  {
   "cell_type": "code",
   "execution_count": 20,
   "id": "75df55e3-4474-41e7-a4a6-3dbedbc3f245",
   "metadata": {},
   "outputs": [
    {
     "name": "stdout",
     "output_type": "stream",
     "text": [
      "✅ WakaTime heartbeat sent at 1751523171.583156\n",
      "[[1 0 3]\n",
      " [4 0 6]\n",
      " [7 0 9]]\n"
     ]
    }
   ],
   "source": [
    "# Replace all elements in column 1 with 0\n",
    "arr[:, 1] = 0\n",
    "print(arr)"
   ]
  },
  {
   "cell_type": "markdown",
   "id": "70a9d764-c171-4a8c-9c26-c093fcbc79cc",
   "metadata": {},
   "source": [
    "# Boolean Indexing\n",
    "\n",
    "* Select elements where a **condition is True**.\n",
    "* Returns a new array.\n",
    "\n",
    "### Syntax:\n",
    "\n",
    "```python\n",
    "array[condition]\n",
    "```"
   ]
  },
  {
   "cell_type": "code",
   "execution_count": 4,
   "id": "8bf59274-a398-4d4e-9d85-f6db5b186d52",
   "metadata": {},
   "outputs": [
    {
     "name": "stdout",
     "output_type": "stream",
     "text": [
      "✅ WakaTime heartbeat sent at 1751520831.623447\n",
      "[20 25]\n",
      "[10 20]\n"
     ]
    }
   ],
   "source": [
    "a = np.array([10, 15, 20, 25])\n",
    "print(a[a > 15])       \n",
    "print(a[a % 10 == 0])  "
   ]
  },
  {
   "cell_type": "markdown",
   "id": "afd9f3b4-c64f-4d2b-ad2b-6e3a1a463787",
   "metadata": {},
   "source": [
    "# Fancy Indexing\n",
    "\n",
    "* Index arrays using **lists or arrays of indices**.\n",
    "* Access multiple specific elements.\n",
    "\n",
    "### Syntax:\n",
    "\n",
    "```python\n",
    "array[[i1, i2, i3]]\n",
    "array[[row_indices], [col_indices]]  # for 2D\n",
    "```"
   ]
  },
  {
   "cell_type": "code",
   "execution_count": 5,
   "id": "1c07574a-b18d-41b7-9d72-008e7ea1a710",
   "metadata": {},
   "outputs": [
    {
     "name": "stdout",
     "output_type": "stream",
     "text": [
      "✅ WakaTime heartbeat sent at 1751520831.671414\n",
      "[10 30 50]\n",
      "[2 5]\n"
     ]
    }
   ],
   "source": [
    "a = np.array([10, 20, 30, 40, 50])\n",
    "print(a[[0, 2, 4]])   \n",
    "\n",
    "b = np.array([[1, 2], [3, 4], [5, 6]])\n",
    "print(b[[0, 2], [1, 0]]) "
   ]
  },
  {
   "cell_type": "markdown",
   "id": "b3bfbfb3-67a3-43ca-882b-dc7d4ec58b36",
   "metadata": {},
   "source": [
    "# Broadcasting\n",
    "\n",
    "* Allows NumPy to perform arithmetic on arrays with **different shapes**.\n",
    "* The smaller array is **broadcast** to match the shape of the larger one.\n",
    "\n",
    "### Rules:\n",
    "\n",
    "1. Dimensions must be equal or 1.\n",
    "2. Operates element-wise after broadcasting.\n"
   ]
  },
  {
   "cell_type": "code",
   "execution_count": 6,
   "id": "3814e914-f4c1-4366-bc25-2f1bff492dd0",
   "metadata": {},
   "outputs": [
    {
     "name": "stdout",
     "output_type": "stream",
     "text": [
      "✅ WakaTime heartbeat sent at 1751520831.718459\n",
      "[11 12 13]\n",
      "[[11 21 31]\n",
      " [12 22 32]\n",
      " [13 23 33]]\n"
     ]
    }
   ],
   "source": [
    "a = np.array([1, 2, 3])\n",
    "print(a + 10)  # [11 12 13]\n",
    "\n",
    "a = np.array([[1], [2], [3]])\n",
    "b = np.array([10, 20, 30])\n",
    "print(a + b)"
   ]
  },
  {
   "cell_type": "markdown",
   "id": "527fe4f4-3f79-45d1-b3e1-d8f18625f7dd",
   "metadata": {},
   "source": [
    "# Arithmetic and Comparison\n",
    "\n",
    "* Perform element-wise math or comparison operations.\n",
    "\n",
    "###  Common Ops:\n",
    "\n",
    "```python\n",
    "+ - * / % // **  ==  !=  >  <  >=  <=\n",
    "```\n"
   ]
  },
  {
   "cell_type": "code",
   "execution_count": 7,
   "id": "ec7490dd-865e-4a35-8d92-538857a92284",
   "metadata": {},
   "outputs": [
    {
     "name": "stdout",
     "output_type": "stream",
     "text": [
      "✅ WakaTime heartbeat sent at 1751520831.765116\n",
      "[5 7 9]\n",
      "[ 4 10 18]\n",
      "[ True  True  True]\n"
     ]
    }
   ],
   "source": [
    "a = np.array([1, 2, 3])\n",
    "b = np.array([4, 5, 6])\n",
    "\n",
    "print(a + b)  # [5 7 9]\n",
    "print(a * b)  # [4 10 18]\n",
    "print(a < b)  # [True True True]"
   ]
  },
  {
   "cell_type": "markdown",
   "id": "9f2b1bf4-bf9e-4700-ba04-92ac055c8474",
   "metadata": {},
   "source": [
    "# Universal Functions (ufuncs)\n",
    "\n",
    "### 🔹 Theory:\n",
    "\n",
    "* Optimized **element-wise functions**.\n",
    "* Fast & vectorized.\n",
    "\n",
    "### 🔸 Common ufuncs:\n",
    "\n",
    "```python\n",
    "np.sqrt(), np.exp(), np.abs(), np.sin(), np.log()\n",
    "```\n"
   ]
  },
  {
   "cell_type": "code",
   "execution_count": 8,
   "id": "9d0aa70f-210a-4eb2-ae7d-33051a86691c",
   "metadata": {},
   "outputs": [
    {
     "name": "stdout",
     "output_type": "stream",
     "text": [
      "✅ WakaTime heartbeat sent at 1751520831.811966\n",
      "[1. 2. 3.]\n",
      "[2.71828183e+00 5.45981500e+01 8.10308393e+03]\n"
     ]
    }
   ],
   "source": [
    "a = np.array([1, 4, 9])\n",
    "print(np.sqrt(a))   # [1. 2. 3.]\n",
    "print(np.exp(a))    # [2.71 54.6 8103.08]"
   ]
  },
  {
   "cell_type": "markdown",
   "id": "a3dd665f-2447-4970-b7d5-10451f34551f",
   "metadata": {},
   "source": [
    "# Aggregation Functions\n",
    "\n",
    "* Reduce data to a **summary statistic**.\n",
    "\n",
    "### 🔸 Common:\n",
    "\n",
    "```python\n",
    "np.sum(), np.mean(), np.min(), np.max(), np.std()\n",
    "```\n"
   ]
  },
  {
   "cell_type": "code",
   "execution_count": 9,
   "id": "19b41648-0938-4c8c-aa78-9a53f19198a2",
   "metadata": {},
   "outputs": [
    {
     "name": "stdout",
     "output_type": "stream",
     "text": [
      "✅ WakaTime heartbeat sent at 1751520831.859991\n",
      "10\n",
      "2.5\n",
      "4\n"
     ]
    }
   ],
   "source": [
    "a = np.array([[1, 2], [3, 4]])\n",
    "print(np.sum(a))    # 10\n",
    "print(np.mean(a))   # 2.5\n",
    "print(np.max(a))    # 4"
   ]
  },
  {
   "cell_type": "markdown",
   "id": "17235510-c3b2-4821-9b4f-c2d7b5a32014",
   "metadata": {},
   "source": [
    "# Axis-wise Operations\n",
    "\n",
    "* `axis=0`: Column-wise\n",
    "* `axis=1`: Row-wise\n"
   ]
  },
  {
   "cell_type": "code",
   "execution_count": 10,
   "id": "1a6c01df-a53a-44e9-bdb4-29228cacc779",
   "metadata": {},
   "outputs": [
    {
     "name": "stdout",
     "output_type": "stream",
     "text": [
      "✅ WakaTime heartbeat sent at 1751520831.906956\n",
      "[4 6]\n",
      "[3 7]\n"
     ]
    }
   ],
   "source": [
    "a = np.array([[1, 2], [3, 4]])\n",
    "print(np.sum(a, axis=0))  # [4 6]\n",
    "print(np.sum(a, axis=1))  # [3 7]"
   ]
  },
  {
   "cell_type": "markdown",
   "id": "0a46ee9d-7934-41f4-ae77-26df47d7ffa4",
   "metadata": {},
   "source": [
    "# Conditional Functions\n",
    "\n",
    "###  `np.where(condition, x, y)`\n",
    "\n",
    "* Returns elements from `x` where `condition` is true, else from `y`.\n",
    "\n",
    "###  `np.clip(arr, min_val, max_val)`\n",
    "\n",
    "* Limits array values within bounds.\n",
    "\n",
    "###  `np.any()` and `np.all()`\n",
    "\n",
    "* Checks condition across entire array.\n",
    "\n"
   ]
  },
  {
   "cell_type": "code",
   "execution_count": 11,
   "id": "c2a5e0ae-807f-48bb-938c-6fb43e3d6548",
   "metadata": {},
   "outputs": [
    {
     "name": "stdout",
     "output_type": "stream",
     "text": [
      "✅ WakaTime heartbeat sent at 1751520831.954511\n",
      "[0 0 0 1 1]\n",
      "[2 2 3 4 4]\n",
      "True\n",
      "True\n"
     ]
    }
   ],
   "source": [
    "a = np.array([1, 2, 3, 4, 5])\n",
    "\n",
    "print(np.where(a > 3, 1, 0))  # [0 0 0 1 1]\n",
    "print(np.clip(a, 2, 4))       # [2 2 3 4 4]\n",
    "\n",
    "print(np.any(a > 4))          # True\n",
    "print(np.all(a > 0))          # True\n",
    "\n"
   ]
  }
 ],
 "metadata": {
  "kernelspec": {
   "display_name": "Python 3 (ipykernel)",
   "language": "python",
   "name": "python3"
  },
  "language_info": {
   "codemirror_mode": {
    "name": "ipython",
    "version": 3
   },
   "file_extension": ".py",
   "mimetype": "text/x-python",
   "name": "python",
   "nbconvert_exporter": "python",
   "pygments_lexer": "ipython3",
   "version": "3.11.13"
  }
 },
 "nbformat": 4,
 "nbformat_minor": 5
}
