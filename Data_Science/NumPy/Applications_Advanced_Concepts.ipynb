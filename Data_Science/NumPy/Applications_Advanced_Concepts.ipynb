{
 "cells": [
  {
   "cell_type": "code",
   "execution_count": 1,
   "id": "9ecb6cfe-42bf-4eb8-80c9-907153f32bcb",
   "metadata": {},
   "outputs": [],
   "source": [
    "import subprocess\n",
    "from datetime import datetime\n",
    "from IPython import get_ipython\n",
    "\n",
    "# --- CONFIGURATION ---\n",
    "NOTEBOOK_NAME = \"Applications_Advanced_Concepts.ipynb\"\n",
    "PLUGIN_NAME = \"jupyterlab/4.0.0\"\n",
    "LANGUAGE = \"Python\"\n",
    "# ----------------------\n",
    "\n",
    "def log_to_wakatime():\n",
    "    timestamp = str(datetime.utcnow().timestamp())\n",
    "    result = subprocess.run([\n",
    "        \"wakatime-cli\",\n",
    "        \"--entity\", NOTEBOOK_NAME,\n",
    "        \"--entity-type\", \"file\",\n",
    "        \"--plugin\", PLUGIN_NAME,\n",
    "        \"--language\", LANGUAGE,\n",
    "        \"--write\",\n",
    "        \"--time\", timestamp\n",
    "    ], capture_output=True, text=True)\n",
    "\n",
    "    if result.returncode != 0:\n",
    "        print(\"❌ WakaTime CLI Error:\")\n",
    "        print(\"STDOUT:\", result.stdout)\n",
    "        print(\"STDERR:\", result.stderr)\n",
    "    else:\n",
    "        print(\"✅ WakaTime heartbeat sent at\", timestamp)\n",
    "\n",
    "def on_cell_run(execution_info):\n",
    "    log_to_wakatime()\n",
    "\n",
    "# Clear broken old handlers (if rerunning)\n",
    "ip = get_ipython()\n",
    "for cb in list(ip.events.callbacks['pre_run_cell']):\n",
    "    if cb.__name__ == \"<lambda>\":\n",
    "        ip.events.unregister('pre_run_cell', cb)\n",
    "\n",
    "ip.events.register('pre_run_cell', on_cell_run)\n"
   ]
  },
  {
   "cell_type": "markdown",
   "id": "b693bd07-ccfa-473c-bac1-b549651a6020",
   "metadata": {},
   "source": [
    "# Advanced Concepts & Applications\n",
    "\n",
    "---\n",
    "\n",
    "## 1. Linear Algebra Operations\n",
    "\n",
    "### `np.dot(a, b)`\n",
    "\n",
    "* Computes dot product of 1D or 2D arrays.\n",
    "\n",
    "### `a @ b` or `np.matmul(a, b)`\n",
    "\n",
    "* Performs matrix multiplication.\n",
    "\n",
    "### `a.T`\n",
    "\n",
    "* Transposes the matrix.\n"
   ]
  },
  {
   "cell_type": "code",
   "execution_count": 2,
   "id": "e8be1510-2ac2-4767-87c8-99f2987d7a75",
   "metadata": {},
   "outputs": [
    {
     "name": "stdout",
     "output_type": "stream",
     "text": [
      "✅ WakaTime heartbeat sent at 1752323123.945285\n",
      "11\n"
     ]
    }
   ],
   "source": [
    "import numpy as np\n",
    "a = np.array([1, 2])\n",
    "b = np.array([3, 4])\n",
    "print(np.dot(a, b))"
   ]
  },
  {
   "cell_type": "code",
   "execution_count": 3,
   "id": "f22978ad-ba28-4469-9d4c-6c5cfbff8645",
   "metadata": {},
   "outputs": [
    {
     "name": "stdout",
     "output_type": "stream",
     "text": [
      "✅ WakaTime heartbeat sent at 1752323124.162315\n",
      "[[19 22]\n",
      " [43 50]]\n"
     ]
    }
   ],
   "source": [
    "A = np.array([[1, 2], [3, 4]])\n",
    "B = np.array([[5, 6], [7, 8]])\n",
    "print(A @ B)"
   ]
  },
  {
   "cell_type": "code",
   "execution_count": 4,
   "id": "3a44e898-0cd8-4b7a-b0b0-0335703a239b",
   "metadata": {},
   "outputs": [
    {
     "name": "stdout",
     "output_type": "stream",
     "text": [
      "✅ WakaTime heartbeat sent at 1752323124.217257\n",
      "[[1 2]\n",
      " [3 4]] \n",
      "\n",
      "[[1 3]\n",
      " [2 4]]\n"
     ]
    }
   ],
   "source": [
    "a = np.array([[1, 2], [3, 4]])\n",
    "print(a,\"\\n\")\n",
    "print(a.T)"
   ]
  },
  {
   "cell_type": "markdown",
   "id": "c8a9e06a-ba8f-44cb-b3b2-168c934475e1",
   "metadata": {},
   "source": [
    "## the linalg part stands for Linear Algebra. It is a submodule of NumPy\n",
    "\n",
    "| Function                   | Description                            |\n",
    "| -------------------------- | -------------------------------------- |\n",
    "| `np.linalg.inv(a)`         | Inverse of a matrix                    |\n",
    "| `np.linalg.det(a)`         | Determinant of a matrix                |\n",
    "| `np.linalg.eig(a)`         | Eigenvalues and eigenvectors           |\n",
    "| `np.linalg.solve(a, b)`    | Solves `ax = b` for `x`                |\n",
    "| `np.linalg.norm(a)`        | Norm (magnitude) of a vector or matrix |\n",
    "| `np.linalg.pinv(a)`        | Pseudo-inverse of a matrix             |\n",
    "| `np.linalg.matrix_rank(a)` | Rank of a matrix                       |\n",
    "\n",
    "\n",
    "### `np.linalg.inv(a)`\n",
    "\n",
    "* Inverse of a square matrix.\n",
    "\n",
    "\n",
    "### `np.linalg.det(a)`\n",
    "\n",
    "* Returns determinant.\n",
    "\n",
    "\n",
    "### `np.linalg.eig(a)`\n",
    "\n",
    "* Returns eigenvalues and eigenvectors.\n",
    "\n",
    "\n",
    "### `np.linalg.solve(A, b)`\n",
    "\n",
    "* Solves system Ax = b.\n"
   ]
  },
  {
   "cell_type": "code",
   "execution_count": 5,
   "id": "1adc1938-df97-40bb-ba5d-f74cc4f3b4d9",
   "metadata": {},
   "outputs": [
    {
     "name": "stdout",
     "output_type": "stream",
     "text": [
      "✅ WakaTime heartbeat sent at 1752323124.272317\n",
      "[[-2.   1. ]\n",
      " [ 1.5 -0.5]]\n"
     ]
    }
   ],
   "source": [
    "a = np.array([[1, 2], [3, 4]])\n",
    "print(np.linalg.inv(a))"
   ]
  },
  {
   "cell_type": "code",
   "execution_count": 6,
   "id": "264a874a-38a6-466a-820f-ee541164ea42",
   "metadata": {},
   "outputs": [
    {
     "name": "stdout",
     "output_type": "stream",
     "text": [
      "✅ WakaTime heartbeat sent at 1752323124.32544\n",
      "-2.0000000000000004\n"
     ]
    }
   ],
   "source": [
    "a = np.array([[1, 2], [3, 4]])\n",
    "print(np.linalg.det(a))"
   ]
  },
  {
   "cell_type": "code",
   "execution_count": 7,
   "id": "d28f14bd-b4ce-41fa-b430-96314b77c63b",
   "metadata": {},
   "outputs": [
    {
     "name": "stdout",
     "output_type": "stream",
     "text": [
      "✅ WakaTime heartbeat sent at 1752323124.380912\n"
     ]
    }
   ],
   "source": [
    "a = np.array([[1, 2], [2, 1]])\n",
    "vals, vecs = np.linalg.eig(a)"
   ]
  },
  {
   "cell_type": "code",
   "execution_count": 8,
   "id": "07216bcd-42f7-49ca-acf1-ed7c73fcf3ee",
   "metadata": {},
   "outputs": [
    {
     "name": "stdout",
     "output_type": "stream",
     "text": [
      "✅ WakaTime heartbeat sent at 1752323124.443703\n",
      "[2.2 3.6]\n"
     ]
    }
   ],
   "source": [
    "A = np.array([[2, 1], [1, 3]])\n",
    "b = np.array([8, 13])\n",
    "print(np.linalg.solve(A, b))"
   ]
  },
  {
   "cell_type": "markdown",
   "id": "5d7945fc-a0ac-4c9e-8260-f7eca8386cb8",
   "metadata": {},
   "source": [
    "## 2. Random Sampling & Distributions\n",
    "\n",
    "### `np.random.choice(arr, size, replace)`\n",
    "\n",
    "* Randomly samples elements.\n",
    "\n",
    "\n",
    "### `np.random.normal(loc, scale, size)`\n",
    "\n",
    "* Samples from normal (Gaussian) distribution.\n",
    "\n",
    "\n",
    "### `np.random.binomial(n, p, size)`\n",
    "\n",
    "* Samples from a binomial distribution.\n"
   ]
  },
  {
   "cell_type": "code",
   "execution_count": 9,
   "id": "acfeb7f6-9d00-4fcc-8f88-29d2d204b97d",
   "metadata": {},
   "outputs": [
    {
     "name": "stdout",
     "output_type": "stream",
     "text": [
      "✅ WakaTime heartbeat sent at 1752323124.495204\n",
      "[20 30 30 30 20]\n"
     ]
    }
   ],
   "source": [
    "arr = np.array([10, 20, 30])\n",
    "print(np.random.choice(arr, 5, replace=True))"
   ]
  },
  {
   "cell_type": "code",
   "execution_count": 10,
   "id": "95991d1c-b044-4919-98d4-76832cefcbac",
   "metadata": {},
   "outputs": [
    {
     "name": "stdout",
     "output_type": "stream",
     "text": [
      "✅ WakaTime heartbeat sent at 1752323124.746801\n",
      "[ 0.62205588 -0.01029453 -0.59781221 -0.64440778 -1.79707333]\n"
     ]
    }
   ],
   "source": [
    "print(np.random.normal(0, 1, 5))"
   ]
  },
  {
   "cell_type": "code",
   "execution_count": 11,
   "id": "092c6179-6fbd-443e-bf34-655b521aebff",
   "metadata": {},
   "outputs": [
    {
     "name": "stdout",
     "output_type": "stream",
     "text": [
      "✅ WakaTime heartbeat sent at 1752323124.799374\n",
      "[5 6 6 4 5]\n"
     ]
    }
   ],
   "source": [
    "print(np.random.binomial(10, 0.5, 5))"
   ]
  },
  {
   "cell_type": "markdown",
   "id": "1c664bdd-680c-42e2-8d1e-0509659a3853",
   "metadata": {},
   "source": [
    "## 3. NaN and Inf Handling\n",
    "\n",
    "### `np.isnan(arr)`\n",
    "\n",
    "* Checks which elements are `NaN`.\n",
    "\n",
    "\n",
    "### `np.isinf(arr)`\n",
    "\n",
    "* Checks which elements are `inf`.\n",
    "\n",
    "\n",
    "### `np.nanmean(arr)`\n",
    "\n",
    "* Computes mean ignoring NaNs.\n",
    "\n",
    "\n",
    "### `np.nan_to_num(arr)`\n",
    "\n",
    "* Replaces `NaN` and `inf` with finite numbers.\n"
   ]
  },
  {
   "cell_type": "code",
   "execution_count": 12,
   "id": "8e055cd1-6bae-4d25-a40a-b006c2979b41",
   "metadata": {},
   "outputs": [
    {
     "name": "stdout",
     "output_type": "stream",
     "text": [
      "✅ WakaTime heartbeat sent at 1752323124.853345\n",
      "[False  True False]\n"
     ]
    }
   ],
   "source": [
    "a = np.array([1, np.nan, 3])\n",
    "print(np.isnan(a))"
   ]
  },
  {
   "cell_type": "code",
   "execution_count": 13,
   "id": "0ef09148-54c1-48da-861b-fa59c8c44ef0",
   "metadata": {},
   "outputs": [
    {
     "name": "stdout",
     "output_type": "stream",
     "text": [
      "✅ WakaTime heartbeat sent at 1752323124.907074\n",
      "[False  True  True]\n"
     ]
    }
   ],
   "source": [
    "a = np.array([1, np.inf, -np.inf])\n",
    "print(np.isinf(a))"
   ]
  },
  {
   "cell_type": "code",
   "execution_count": 14,
   "id": "5a41684b-ae86-41ed-a52e-365871361f06",
   "metadata": {},
   "outputs": [
    {
     "name": "stdout",
     "output_type": "stream",
     "text": [
      "✅ WakaTime heartbeat sent at 1752323124.957871\n",
      "1.5\n"
     ]
    }
   ],
   "source": [
    "a = np.array([1, 2, np.nan])\n",
    "print(np.nanmean(a))"
   ]
  },
  {
   "cell_type": "code",
   "execution_count": 15,
   "id": "bb1ea1b6-593e-4fca-863c-4990b0656d9c",
   "metadata": {},
   "outputs": [
    {
     "name": "stdout",
     "output_type": "stream",
     "text": [
      "✅ WakaTime heartbeat sent at 1752323125.01009\n",
      "[ 0.00000000e+000  1.79769313e+308 -1.79769313e+308  5.00000000e+000]\n"
     ]
    }
   ],
   "source": [
    "a = np.array([np.nan, np.inf, -np.inf, 5])\n",
    "print(np.nan_to_num(a))"
   ]
  },
  {
   "cell_type": "markdown",
   "id": "33b5c378-06f0-44a8-92e0-f1e678f305bf",
   "metadata": {},
   "source": [
    "## 4. File I/O Operations\n",
    "\n",
    "### `np.save(filename, arr)`\n",
    "\n",
    "* Save NumPy array to `.npy` binary file.\n",
    "\n",
    "### `np.load(filename)`\n",
    "\n",
    "* Load `.npy` binary file.\n",
    "\n",
    "### `np.savetxt(filename, arr, delimiter=',')`\n",
    "\n",
    "* Save array to `.txt` or `.csv`.\n",
    "\n",
    "```python\n",
    "arr = np.array([[1, 2], [3, 4]])\n",
    "np.savetxt(\"data.csv\", arr, delimiter=\",\")\n",
    "```\n",
    "\n",
    "### `np.loadtxt(filename, delimiter=',')`\n",
    "\n",
    "* Load from `.txt` or `.csv`.\n",
    "\n",
    "```python\n",
    "data = np.loadtxt(\"data.csv\", delimiter=\",\")\n",
    "```\n",
    "\n",
    "### `np.genfromtxt(filename, delimiter=',')`\n",
    "\n",
    "* Similar to `loadtxt` but handles missing values.\n",
    "\n",
    "```python\n",
    "data = np.genfromtxt(\"data.csv\", delimiter=\",\")\n",
    "```\n"
   ]
  },
  {
   "cell_type": "markdown",
   "id": "1366cb41-9aca-49aa-a0ce-d8f88df70978",
   "metadata": {},
   "source": [
    "## 5. Memory Layout & Performance\n",
    "\n",
    "### `.strides`\n",
    "\n",
    "* Number of bytes to step in each dimension when traversing array.\n",
    "\n",
    "### `order='C'` or `'F'`\n",
    "\n",
    "* Row-major (`C`) or column-major (`F`) memory layout.\n"
   ]
  },
  {
   "cell_type": "code",
   "execution_count": 16,
   "id": "3a499e54-0a10-4472-8e2d-6ccf9d1fe6fe",
   "metadata": {},
   "outputs": [
    {
     "name": "stdout",
     "output_type": "stream",
     "text": [
      "✅ WakaTime heartbeat sent at 1752323125.063384\n",
      "C-order array:\n",
      " [[1 2]\n",
      " [3 4]]\n",
      "C-order strides: (16, 8)\n",
      "\n",
      "F-order array:\n",
      " [[1 2]\n",
      " [3 4]]\n",
      "F-order strides: (8, 16)\n"
     ]
    }
   ],
   "source": [
    "\n",
    "# C-order (default)\n",
    "a = np.array([[1, 2],\n",
    "              [3, 4]], order='C')\n",
    "\n",
    "# F-order\n",
    "b = np.array([[1, 2],\n",
    "              [3, 4]], order='F')\n",
    "\n",
    "print(\"C-order array:\\n\", a)\n",
    "print(\"C-order strides:\", a.strides)\n",
    "\n",
    "print(\"\\nF-order array:\\n\", b)\n",
    "print(\"F-order strides:\", b.strides)\n"
   ]
  },
  {
   "cell_type": "markdown",
   "id": "ea69f45c-17de-48b1-8770-3ecebdfc3664",
   "metadata": {},
   "source": [
    "### `.view()`\n",
    "\n",
    "* Creates a shallow copy (shares memory).\n",
    "\n",
    "### `.copy()`\n",
    "\n",
    "* Deep copy (separate memory).\n"
   ]
  },
  {
   "cell_type": "code",
   "execution_count": 17,
   "id": "a54d4104-1aa5-40cf-a7c4-360204e54a36",
   "metadata": {},
   "outputs": [
    {
     "name": "stdout",
     "output_type": "stream",
     "text": [
      "✅ WakaTime heartbeat sent at 1752323125.115328\n",
      "[100   2   3]\n"
     ]
    }
   ],
   "source": [
    "a = np.array([1, 2, 3])\n",
    "b = a.view()\n",
    "b[0] = 100\n",
    "print(a)  "
   ]
  },
  {
   "cell_type": "code",
   "execution_count": 18,
   "id": "6fb934af-092e-4c74-a9d4-15ab3b0de044",
   "metadata": {},
   "outputs": [
    {
     "name": "stdout",
     "output_type": "stream",
     "text": [
      "✅ WakaTime heartbeat sent at 1752323125.167307\n",
      "[1 2 3]\n"
     ]
    }
   ],
   "source": [
    "a = np.array([1, 2, 3])\n",
    "b = a.copy()\n",
    "b[0] = 100\n",
    "print(a)  "
   ]
  },
  {
   "cell_type": "markdown",
   "id": "bea59f6b-5b53-48d2-89d1-7674d92eaf50",
   "metadata": {},
   "source": [
    "## 6. Structured Arrays\n",
    "\n",
    "### Custom Data Type with Named Fields\n"
   ]
  },
  {
   "cell_type": "code",
   "execution_count": 19,
   "id": "481bbc7c-385c-43d6-8465-196ec5231588",
   "metadata": {},
   "outputs": [
    {
     "name": "stdout",
     "output_type": "stream",
     "text": [
      "✅ WakaTime heartbeat sent at 1752323125.224534\n",
      "['Alice' 'Bob']\n",
      "[25 30]\n"
     ]
    }
   ],
   "source": [
    "dt = np.dtype([('name', 'U10'), ('age', 'i4')])\n",
    "arr = np.array([('Alice', 25), ('Bob', 30)], dtype=dt)\n",
    "print(arr['name'])  # ['Alice' 'Bob']\n",
    "print(arr['age'])   # [25 30]"
   ]
  },
  {
   "cell_type": "markdown",
   "id": "cd758464-15cf-4c9f-9c4f-6d654f497ff5",
   "metadata": {},
   "source": [
    "### Convert to Record Array"
   ]
  },
  {
   "cell_type": "code",
   "execution_count": 20,
   "id": "7ce75988-0b2f-4f89-9d95-db2ea1874f69",
   "metadata": {},
   "outputs": [
    {
     "name": "stdout",
     "output_type": "stream",
     "text": [
      "✅ WakaTime heartbeat sent at 1752323125.280446\n",
      "['Alice' 'Bob']\n"
     ]
    }
   ],
   "source": [
    "rec_arr = arr.view(np.recarray)\n",
    "print(rec_arr.name)"
   ]
  },
  {
   "cell_type": "markdown",
   "id": "fe6b0d38-a0f9-486a-8811-e952862bf282",
   "metadata": {},
   "source": [
    "## **Optional Topics (Rarely Used):**\n",
    "\n",
    "### 1. **Masked Arrays**\n",
    "\n",
    "* Useful when working with invalid or missing data without removing them.\n",
    "\n",
    "\n",
    "### 2. **Broadcasting Tricks**\n",
    "\n",
    "* E.g., creating grids without `meshgrid` using broadcasting.\n",
    "\n",
    "\n",
    "### 3. **`np.vectorize()`**\n",
    "\n",
    "* Vectorizes any Python function (less efficient than ufuncs, but useful).\n",
    "\n",
    "\n",
    "### 4. **`np.fromfunction()`**\n",
    "\n",
    "* Create arrays using a function over indices.\n",
    "  \n",
    "\n",
    "### 5. **`np.seterr()`**\n",
    "\n",
    "* Control how NumPy handles floating-point errors (like divide-by-zero).\n",
    "\n",
    "\n",
    "### 6. **`np.apply_along_axis()`**\n",
    "\n",
    "* Apply a function along a specific axis of a 2D array.\n"
   ]
  },
  {
   "cell_type": "code",
   "execution_count": 21,
   "id": "df12f278-a56d-48b3-a4ab-9210a50b4237",
   "metadata": {},
   "outputs": [
    {
     "name": "stdout",
     "output_type": "stream",
     "text": [
      "✅ WakaTime heartbeat sent at 1752323125.337609\n",
      "2.0\n"
     ]
    }
   ],
   "source": [
    "import numpy.ma as ma\n",
    "data = ma.masked_array([1, 2, 3, -99], mask=[0, 0, 0, 1])\n",
    "print(data.mean())  # Ignores the masked value"
   ]
  },
  {
   "cell_type": "code",
   "execution_count": 22,
   "id": "56c67b4d-19d2-4cf4-8379-b6b5f50a2569",
   "metadata": {},
   "outputs": [
    {
     "name": "stdout",
     "output_type": "stream",
     "text": [
      "✅ WakaTime heartbeat sent at 1752323125.396733\n"
     ]
    }
   ],
   "source": [
    "x = np.arange(3).reshape(3, 1)\n",
    "y = np.arange(4)\n",
    "grid = x + y  # Shape: (3, 4)"
   ]
  },
  {
   "cell_type": "code",
   "execution_count": 23,
   "id": "0e2d7c39-eaac-41c6-8237-38233451e17e",
   "metadata": {},
   "outputs": [
    {
     "name": "stdout",
     "output_type": "stream",
     "text": [
      "✅ WakaTime heartbeat sent at 1752323125.45414\n",
      "[1 4 9]\n"
     ]
    }
   ],
   "source": [
    "def myfunc(x): return x ** 2\n",
    "vfunc = np.vectorize(myfunc)\n",
    "print(vfunc([1, 2, 3]))"
   ]
  },
  {
   "cell_type": "code",
   "execution_count": 24,
   "id": "71ebc180-8b7a-4265-b757-58fa4c8445c0",
   "metadata": {},
   "outputs": [
    {
     "name": "stdout",
     "output_type": "stream",
     "text": [
      "✅ WakaTime heartbeat sent at 1752323125.510615\n",
      "[[0 1 2]\n",
      " [1 2 3]\n",
      " [2 3 4]]\n"
     ]
    }
   ],
   "source": [
    "f = lambda i, j: i + j\n",
    "a = np.fromfunction(f, (3, 3), dtype=int)\n",
    "print(a)"
   ]
  },
  {
   "cell_type": "code",
   "execution_count": 25,
   "id": "b5d6c88f-9f53-4623-9395-4c9e59ff62f4",
   "metadata": {},
   "outputs": [
    {
     "name": "stdout",
     "output_type": "stream",
     "text": [
      "✅ WakaTime heartbeat sent at 1752323125.56606\n"
     ]
    },
    {
     "data": {
      "text/plain": [
       "{'divide': 'warn', 'over': 'warn', 'under': 'ignore', 'invalid': 'warn'}"
      ]
     },
     "execution_count": 25,
     "metadata": {},
     "output_type": "execute_result"
    }
   ],
   "source": [
    "np.seterr(divide='ignore', invalid='ignore')"
   ]
  },
  {
   "cell_type": "code",
   "execution_count": 26,
   "id": "fed55b52-d0eb-4714-ad75-b0a869bd67da",
   "metadata": {},
   "outputs": [
    {
     "name": "stdout",
     "output_type": "stream",
     "text": [
      "✅ WakaTime heartbeat sent at 1752323125.625298\n",
      "[3 7]\n"
     ]
    }
   ],
   "source": [
    "a = np.array([[1, 2], [3, 4]])\n",
    "print(np.apply_along_axis(np.sum, axis=1, arr=a))  # [3, 7]"
   ]
  },
  {
   "cell_type": "markdown",
   "id": "699bec9b-b6db-44dd-b6c7-bd38a680d3a0",
   "metadata": {},
   "source": [
    "## ✅ Summary Table\n",
    "\n",
    "| Feature            | Function(s)                            | Description                                   |\n",
    "| ------------------ | -------------------------------------- | --------------------------------------------- |\n",
    "| Linear Algebra Ops | `dot`, `matmul`, `inv`, `det`, `solve` | Matrix math & systems of equations            |\n",
    "| Random Sampling    | `choice`, `normal`, `binomial`         | Random draws from distributions               |\n",
    "| NaN/Inf Handling   | `isnan`, `isinf`, `nanmean`            | Handle missing/infinite values                |\n",
    "| File I/O           | `save`, `load`, `savetxt`, `loadtxt`   | Read/write arrays to files                    |\n",
    "| Memory Layout      | `view()`, `copy()`, `strides`, `order` | Understand and optimize memory representation |\n",
    "| Structured Arrays  | `dtype=[('name','U10'), ('age','i4')]` | Use arrays with named fields like databases   |\n",
    "\n",
    "---"
   ]
  }
 ],
 "metadata": {
  "kernelspec": {
   "display_name": "Python 3 (ipykernel)",
   "language": "python",
   "name": "python3"
  },
  "language_info": {
   "codemirror_mode": {
    "name": "ipython",
    "version": 3
   },
   "file_extension": ".py",
   "mimetype": "text/x-python",
   "name": "python",
   "nbconvert_exporter": "python",
   "pygments_lexer": "ipython3",
   "version": "3.11.13"
  }
 },
 "nbformat": 4,
 "nbformat_minor": 5
}
