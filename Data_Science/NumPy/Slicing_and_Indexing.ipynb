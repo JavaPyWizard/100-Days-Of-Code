{
 "cells": [
  {
   "cell_type": "code",
   "execution_count": 1,
   "id": "86abca91-feaa-4fb1-8655-d310c4f59ec1",
   "metadata": {},
   "outputs": [],
   "source": [
    "import subprocess\n",
    "from datetime import datetime\n",
    "from IPython import get_ipython\n",
    "\n",
    "# --- CONFIGURATION ---\n",
    "NOTEBOOK_NAME = \"Slicing_and_Indexing.ipynb\"\n",
    "PLUGIN_NAME = \"jupyterlab/4.0.0\"\n",
    "LANGUAGE = \"Python\"\n",
    "# ----------------------\n",
    "\n",
    "def log_to_wakatime():\n",
    "    timestamp = str(datetime.utcnow().timestamp())\n",
    "    result = subprocess.run([\n",
    "        \"wakatime-cli\",\n",
    "        \"--entity\", NOTEBOOK_NAME,\n",
    "        \"--entity-type\", \"file\",\n",
    "        \"--plugin\", PLUGIN_NAME,\n",
    "        \"--language\", LANGUAGE,\n",
    "        \"--write\",\n",
    "        \"--time\", timestamp\n",
    "    ], capture_output=True, text=True)\n",
    "\n",
    "    if result.returncode != 0:\n",
    "        print(\"❌ WakaTime CLI Error:\")\n",
    "        print(\"STDOUT:\", result.stdout)\n",
    "        print(\"STDERR:\", result.stderr)\n",
    "    else:\n",
    "        print(\"✅ WakaTime heartbeat sent at\", timestamp)\n",
    "\n",
    "def on_cell_run(execution_info):\n",
    "    log_to_wakatime()\n",
    "\n",
    "# Clear broken old handlers (if rerunning)\n",
    "ip = get_ipython()\n",
    "for cb in list(ip.events.callbacks['pre_run_cell']):\n",
    "    if cb.__name__ == \"<lambda>\":\n",
    "        ip.events.unregister('pre_run_cell', cb)\n",
    "\n",
    "ip.events.register('pre_run_cell', on_cell_run)\n"
   ]
  },
  {
   "cell_type": "code",
   "execution_count": 2,
   "id": "2e215f87-0254-42a3-a96c-e1c3b325d1aa",
   "metadata": {},
   "outputs": [
    {
     "name": "stdout",
     "output_type": "stream",
     "text": [
      "✅ WakaTime heartbeat sent at 1751694140.287308\n"
     ]
    }
   ],
   "source": [
    "import numpy as np "
   ]
  },
  {
   "cell_type": "markdown",
   "id": "bd256005-409f-4c2d-b2de-1a5b4f5414ac",
   "metadata": {},
   "source": [
    "# Indexing and Slicing\n",
    "\n",
    "* Used to **access and manipulate** parts of an array.\n",
    "* Works for both 1D and multi-dimensional arrays.\n",
    "\n",
    "### Syntax:\n",
    "\n",
    "```python\n",
    "array[start:stop:step]      # slicing\n",
    "array[index]                # indexing\n",
    "array[row_index, col_index] # 2D indexing\n",
    "```\n"
   ]
  },
  {
   "cell_type": "code",
   "execution_count": 3,
   "id": "b5d014f0-7c41-424c-81fc-390404c5f66b",
   "metadata": {},
   "outputs": [
    {
     "name": "stdout",
     "output_type": "stream",
     "text": [
      "✅ WakaTime heartbeat sent at 1751694140.386683\n",
      "10\n",
      "[20 30]\n",
      "[40 30 20 10]\n",
      "4\n",
      "4\n"
     ]
    }
   ],
   "source": [
    "a = np.array([10, 20, 30, 40])\n",
    "print(a[0])        \n",
    "print(a[1:3])      \n",
    "print(a[::-1])     \n",
    "\n",
    "b = np.array([[1, 2], [3, 4]])\n",
    "print(b[1][1])     # \n",
    "print(b[1, 1])     # (more efficient)"
   ]
  },
  {
   "cell_type": "code",
   "execution_count": 4,
   "id": "1389ae40-92de-418d-b2d7-26b1a407caf2",
   "metadata": {},
   "outputs": [
    {
     "name": "stdout",
     "output_type": "stream",
     "text": [
      "✅ WakaTime heartbeat sent at 1751694140.450441\n",
      "[[1 2 3]\n",
      " [4 5 6]\n",
      " [7 8 9]] \n",
      "\n",
      "[12 15 18] \n",
      "\n",
      "[ 6 15 24] \n",
      "\n"
     ]
    }
   ],
   "source": [
    "arr = np.array([[1, 2, 3], \n",
    "                [4, 5, 6], \n",
    "                [7, 8, 9]])\n",
    " \n",
    "print(arr,\"\\n\")\n",
    "print(np.sum(arr, axis=0),\"\\n\")  # Sum along rows (down each column)\n",
    "print(np.sum(arr, axis=1),\"\\n\")  # Sum along columns (across each row)"
   ]
  },
  {
   "cell_type": "code",
   "execution_count": 5,
   "id": "535905b8-cd8d-4a98-ba0b-a18c8d380fcd",
   "metadata": {},
   "outputs": [
    {
     "name": "stdout",
     "output_type": "stream",
     "text": [
      "✅ WakaTime heartbeat sent at 1751694140.514191\n",
      "6\n",
      "[[2 3]\n",
      " [5 6]]\n"
     ]
    }
   ],
   "source": [
    "# Accessing an element\n",
    "print(arr[1, 2]) # Row index 1, Column index 2 → Output: 6\n",
    "print(arr[0:2, 1:3])  # Extracts first 2 rows and last 2 columns"
   ]
  },
  {
   "cell_type": "code",
   "execution_count": 6,
   "id": "c0654e73-f415-423c-ad06-f29b7995d291",
   "metadata": {},
   "outputs": [
    {
     "name": "stdout",
     "output_type": "stream",
     "text": [
      "✅ WakaTime heartbeat sent at 1751694140.576811\n",
      "(2, 2, 3)\n",
      "6\n",
      "[[1 2 3]\n",
      " [7 8 9]]\n"
     ]
    }
   ],
   "source": [
    "arr3D = np.array([[[1, 2, 3], [4, 5, 6]],\n",
    "                  [[7, 8, 9], [10, 11, 12]]])\n",
    "\n",
    "# Output of arr3D.shape is → (depth, rows, columns)\n",
    "print(arr3D.shape)  # Output: (2, 2, 3) \n",
    "\n",
    "# First sheet, second row, third column\n",
    "print(arr3D[0, 1, 2])  # Output: 6\n",
    "\n",
    "print(arr3D[:, 0, :])   # Get the first row from both sheets"
   ]
  },
  {
   "cell_type": "code",
   "execution_count": 7,
   "id": "654dc5d8-591c-485d-b89d-876056120819",
   "metadata": {},
   "outputs": [
    {
     "name": "stdout",
     "output_type": "stream",
     "text": [
      "✅ WakaTime heartbeat sent at 1751694140.639129\n",
      "[1 4 7]\n",
      "[[1 2 3]\n",
      " [7 8 9]]\n"
     ]
    }
   ],
   "source": [
    "# Get all rows of the first column\n",
    "first_col = arr[:, 0]\n",
    "print(first_col)  # Output: [1 4 7]\n",
    "\n",
    "# Get the first row from each \"sheet\" in a 3D array\n",
    "first_rows = arr3D[:, 0, :]\n",
    "print(first_rows)"
   ]
  },
  {
   "cell_type": "code",
   "execution_count": 8,
   "id": "75df55e3-4474-41e7-a4a6-3dbedbc3f245",
   "metadata": {},
   "outputs": [
    {
     "name": "stdout",
     "output_type": "stream",
     "text": [
      "✅ WakaTime heartbeat sent at 1751694140.699756\n",
      "[[1 0 3]\n",
      " [4 0 6]\n",
      " [7 0 9]]\n"
     ]
    }
   ],
   "source": [
    "# Replace all elements in column 1 with 0\n",
    "arr[:, 1] = 0\n",
    "print(arr)"
   ]
  },
  {
   "cell_type": "markdown",
   "id": "70a9d764-c171-4a8c-9c26-c093fcbc79cc",
   "metadata": {},
   "source": [
    "# Boolean Indexing\n",
    "\n",
    "* Select elements where a **condition is True**.\n",
    "* Returns a new array.\n",
    "\n",
    "### Syntax:\n",
    "\n",
    "```python\n",
    "array[condition]\n",
    "```"
   ]
  },
  {
   "cell_type": "code",
   "execution_count": 9,
   "id": "8bf59274-a398-4d4e-9d85-f6db5b186d52",
   "metadata": {},
   "outputs": [
    {
     "name": "stdout",
     "output_type": "stream",
     "text": [
      "✅ WakaTime heartbeat sent at 1751694140.760749\n",
      "[20 25]\n",
      "[10 20]\n"
     ]
    }
   ],
   "source": [
    "a = np.array([10, 15, 20, 25])\n",
    "print(a[a > 15])       \n",
    "print(a[a % 10 == 0])  "
   ]
  },
  {
   "cell_type": "markdown",
   "id": "afd9f3b4-c64f-4d2b-ad2b-6e3a1a463787",
   "metadata": {},
   "source": [
    "# Fancy Indexing\n",
    "\n",
    "* Index arrays using **lists or arrays of indices**.\n",
    "* Access multiple specific elements.\n",
    "\n",
    "### Syntax:\n",
    "\n",
    "```python\n",
    "array[[i1, i2, i3]]\n",
    "array[[row_indices], [col_indices]]  # for 2D\n",
    "```"
   ]
  },
  {
   "cell_type": "code",
   "execution_count": 10,
   "id": "1c07574a-b18d-41b7-9d72-008e7ea1a710",
   "metadata": {},
   "outputs": [
    {
     "name": "stdout",
     "output_type": "stream",
     "text": [
      "✅ WakaTime heartbeat sent at 1751694140.823981\n",
      "[10 30 50]\n",
      "[2 5]\n"
     ]
    }
   ],
   "source": [
    "a = np.array([10, 20, 30, 40, 50])\n",
    "print(a[[0, 2, 4]])   \n",
    "\n",
    "b = np.array([[1, 2], [3, 4], [5, 6]])\n",
    "print(b[[0, 2], [1, 0]]) "
   ]
  },
  {
   "cell_type": "markdown",
   "id": "b3bfbfb3-67a3-43ca-882b-dc7d4ec58b36",
   "metadata": {},
   "source": [
    "# Broadcasting\n",
    "\n",
    "* Allows NumPy to perform arithmetic on arrays with **different shapes**.\n",
    "* The smaller array is **broadcast** to match the shape of the larger one.\n",
    "\n",
    "### Rules:\n",
    "\n",
    "1. Dimensions must be equal or 1.\n",
    "2. Operates element-wise after broadcasting.\n"
   ]
  },
  {
   "cell_type": "code",
   "execution_count": 11,
   "id": "3814e914-f4c1-4366-bc25-2f1bff492dd0",
   "metadata": {},
   "outputs": [
    {
     "name": "stdout",
     "output_type": "stream",
     "text": [
      "✅ WakaTime heartbeat sent at 1751694140.882681\n",
      "[11 12 13]\n",
      "[[11 21 31]\n",
      " [12 22 32]\n",
      " [13 23 33]]\n"
     ]
    }
   ],
   "source": [
    "a = np.array([1, 2, 3])\n",
    "print(a + 10)  # [11 12 13]\n",
    "\n",
    "a = np.array([[1], [2], [3]])\n",
    "b = np.array([10, 20, 30])\n",
    "print(a + b)"
   ]
  },
  {
   "cell_type": "markdown",
   "id": "527fe4f4-3f79-45d1-b3e1-d8f18625f7dd",
   "metadata": {},
   "source": [
    "# Arithmetic and Comparison\n",
    "\n",
    "* Perform element-wise math or comparison operations.\n",
    "\n",
    "###  Common Ops:\n",
    "\n",
    "```python\n",
    "+ - * / % // **  ==  !=  >  <  >=  <=\n",
    "```\n"
   ]
  },
  {
   "cell_type": "code",
   "execution_count": 12,
   "id": "ec7490dd-865e-4a35-8d92-538857a92284",
   "metadata": {},
   "outputs": [
    {
     "name": "stdout",
     "output_type": "stream",
     "text": [
      "✅ WakaTime heartbeat sent at 1751694140.944541\n",
      "[5 7 9]\n",
      "[ 4 10 18]\n",
      "[ True  True  True]\n"
     ]
    }
   ],
   "source": [
    "a = np.array([1, 2, 3])\n",
    "b = np.array([4, 5, 6])\n",
    "\n",
    "print(a + b)  # [5 7 9]\n",
    "print(a * b)  # [4 10 18]\n",
    "print(a < b)  # [True True True]"
   ]
  },
  {
   "cell_type": "markdown",
   "id": "9f2b1bf4-bf9e-4700-ba04-92ac055c8474",
   "metadata": {},
   "source": [
    "# Universal Functions (ufuncs)\n",
    "\n",
    "### Theory:\n",
    "\n",
    "* Optimized **element-wise functions**.\n",
    "* Fast & vectorized.\n",
    "\n",
    "### Common ufuncs:\n",
    "\n",
    "```python\n",
    "np.sqrt(), np.exp(), np.abs(), np.sin(), np.log()\n",
    "```\n"
   ]
  },
  {
   "cell_type": "code",
   "execution_count": 13,
   "id": "9d0aa70f-210a-4eb2-ae7d-33051a86691c",
   "metadata": {},
   "outputs": [
    {
     "name": "stdout",
     "output_type": "stream",
     "text": [
      "✅ WakaTime heartbeat sent at 1751694141.007748\n",
      "[1. 2. 3.]\n",
      "[2.71828183e+00 5.45981500e+01 8.10308393e+03]\n"
     ]
    }
   ],
   "source": [
    "a = np.array([1, 4, 9])\n",
    "print(np.sqrt(a))   # [1. 2. 3.]\n",
    "print(np.exp(a))    # [2.71 54.6 8103.08]"
   ]
  },
  {
   "cell_type": "markdown",
   "id": "a3dd665f-2447-4970-b7d5-10451f34551f",
   "metadata": {},
   "source": [
    "# Aggregation Functions\n",
    "\n",
    "* Reduce data to a **summary statistic**.\n",
    "\n",
    "### 🔸 Common:\n",
    "\n",
    "```python\n",
    "np.sum(), np.mean(), np.min(), np.max(), np.std()\n",
    "```\n"
   ]
  },
  {
   "cell_type": "code",
   "execution_count": 14,
   "id": "19b41648-0938-4c8c-aa78-9a53f19198a2",
   "metadata": {},
   "outputs": [
    {
     "name": "stdout",
     "output_type": "stream",
     "text": [
      "✅ WakaTime heartbeat sent at 1751694141.069768\n",
      "10\n",
      "2.5\n",
      "4\n"
     ]
    }
   ],
   "source": [
    "a = np.array([[1, 2], [3, 4]])\n",
    "print(np.sum(a))    # 10\n",
    "print(np.mean(a))   # 2.5\n",
    "print(np.max(a))    # 4"
   ]
  },
  {
   "cell_type": "markdown",
   "id": "17235510-c3b2-4821-9b4f-c2d7b5a32014",
   "metadata": {},
   "source": [
    "# Axis-wise Operations\n",
    "\n",
    "* `axis=0`: Column-wise\n",
    "* `axis=1`: Row-wise\n"
   ]
  },
  {
   "cell_type": "code",
   "execution_count": 15,
   "id": "1a6c01df-a53a-44e9-bdb4-29228cacc779",
   "metadata": {},
   "outputs": [
    {
     "name": "stdout",
     "output_type": "stream",
     "text": [
      "✅ WakaTime heartbeat sent at 1751694141.130623\n",
      "[4 6]\n",
      "[3 7]\n"
     ]
    }
   ],
   "source": [
    "a = np.array([[1, 2], [3, 4]])\n",
    "print(np.sum(a, axis=0))  # [4 6]\n",
    "print(np.sum(a, axis=1))  # [3 7]"
   ]
  },
  {
   "cell_type": "markdown",
   "id": "0a46ee9d-7934-41f4-ae77-26df47d7ffa4",
   "metadata": {},
   "source": [
    "# Conditional Functions\n",
    "\n",
    "###  `np.where(condition, x, y)`\n",
    "\n",
    "* Returns elements from `x` where `condition` is true, else from `y`.\n",
    "\n",
    "###  `np.clip(arr, min_val, max_val)`\n",
    "\n",
    "* Limits array values within bounds.\n",
    "\n",
    "###  `np.any()` and `np.all()`\n",
    "\n",
    "* Checks condition across entire array.\n",
    "\n"
   ]
  },
  {
   "cell_type": "code",
   "execution_count": 16,
   "id": "c2a5e0ae-807f-48bb-938c-6fb43e3d6548",
   "metadata": {},
   "outputs": [
    {
     "name": "stdout",
     "output_type": "stream",
     "text": [
      "✅ WakaTime heartbeat sent at 1751694141.192923\n",
      "[0 0 0 1 1]\n",
      "[2 2 3 4 4]\n",
      "True\n",
      "True\n"
     ]
    }
   ],
   "source": [
    "a = np.array([1, 2, 3, 4, 5])\n",
    "\n",
    "print(np.where(a > 3, 1, 0))  # [0 0 0 1 1]\n",
    "print(np.clip(a, 2, 4))       # [2 2 3 4 4]\n",
    "\n",
    "print(np.any(a > 4))          # True\n",
    "print(np.all(a > 0))          # True"
   ]
  },
  {
   "cell_type": "markdown",
   "id": "a1b96679-2800-43e3-8651-0cc7b2ce11c6",
   "metadata": {},
   "source": [
    "# More about this Section\n",
    "\n",
    "---\n",
    "\n",
    "## 1. `np.nonzero()` & `np.count_nonzero()`\n",
    "\n",
    "### Use-case:\n",
    "\n",
    "* Identify or count non-zero (or `True`) values — often used with boolean indexing."
   ]
  },
  {
   "cell_type": "code",
   "execution_count": 17,
   "id": "e3699cf4-a868-4d52-9832-ff347440b871",
   "metadata": {},
   "outputs": [
    {
     "name": "stdout",
     "output_type": "stream",
     "text": [
      "✅ WakaTime heartbeat sent at 1751694141.25377\n",
      "(array([1, 3, 4]),)\n",
      "3\n"
     ]
    }
   ],
   "source": [
    "a = np.array([0, 1, 0, 2, 3])\n",
    "print(np.nonzero(a))        \n",
    "print(np.count_nonzero(a))  "
   ]
  },
  {
   "cell_type": "markdown",
   "id": "e99e306c-4e09-465e-a893-1ed4d7597eb1",
   "metadata": {},
   "source": [
    "## 2. `np.unique()` (with `return_counts`)\n",
    "\n",
    "### Use-case:\n",
    "\n",
    "* Get **distinct values** and how often each appears."
   ]
  },
  {
   "cell_type": "code",
   "execution_count": 18,
   "id": "55881cad-5143-401b-99dd-29c7ebe5bcda",
   "metadata": {},
   "outputs": [
    {
     "name": "stdout",
     "output_type": "stream",
     "text": [
      "✅ WakaTime heartbeat sent at 1751694141.31691\n",
      "[1 2 3]\n",
      "[1 3 5]\n"
     ]
    }
   ],
   "source": [
    "a = np.array([1, 2, 2, 2, 3, 3, 3, 3, 3])\n",
    "u, counts = np.unique(a, return_counts=True)\n",
    "print(u)       \n",
    "print(counts)  "
   ]
  },
  {
   "cell_type": "markdown",
   "id": "3faa6250-2552-429b-be5a-08ff85885abb",
   "metadata": {},
   "source": [
    "## 3. `np.sort()` vs `np.argsort()`\n",
    "\n",
    "### Use-case:\n",
    "\n",
    "* Sort data or get the order of indices to sort."
   ]
  },
  {
   "cell_type": "code",
   "execution_count": 19,
   "id": "f9c2048a-bfdc-4928-9452-882de023c8ff",
   "metadata": {},
   "outputs": [
    {
     "name": "stdout",
     "output_type": "stream",
     "text": [
      "✅ WakaTime heartbeat sent at 1751694141.38014\n",
      "[1 2 3]\n",
      "[1 2 0]\n"
     ]
    }
   ],
   "source": [
    "a = np.array([3, 1, 2])\n",
    "print(np.sort(a))     \n",
    "print(np.argsort(a))  "
   ]
  },
  {
   "cell_type": "markdown",
   "id": "59f2e5a3-9461-490a-baaa-2fb0d8dce51a",
   "metadata": {},
   "source": [
    "## 4. `np.argmax()`, `np.argmin()`\n",
    "\n",
    "### Use-case:\n",
    "\n",
    "* Get the index of the **max or min** value.\n"
   ]
  },
  {
   "cell_type": "code",
   "execution_count": 20,
   "id": "064ff73e-6107-4574-84c5-d89a09003f57",
   "metadata": {},
   "outputs": [
    {
     "name": "stdout",
     "output_type": "stream",
     "text": [
      "✅ WakaTime heartbeat sent at 1751694141.439596\n",
      "3\n",
      "2\n"
     ]
    }
   ],
   "source": [
    "a = np.array([10, 20, 5, 40])\n",
    "print(np.argmax(a))  \n",
    "print(np.argmin(a))  "
   ]
  },
  {
   "cell_type": "markdown",
   "id": "0c198362-6c7a-4178-950a-847d5a43c3f3",
   "metadata": {},
   "source": [
    "## 5. `np.set_printoptions()`\n",
    "\n",
    "### Use-case:\n",
    "\n",
    "* Cleanly format large NumPy array output (like suppressing scientific notation)."
   ]
  },
  {
   "cell_type": "code",
   "execution_count": 21,
   "id": "c2645be5-625b-470e-a09c-f736ceed3989",
   "metadata": {},
   "outputs": [
    {
     "name": "stdout",
     "output_type": "stream",
     "text": [
      "✅ WakaTime heartbeat sent at 1751694141.499366\n",
      "[1.12 2.35]\n"
     ]
    }
   ],
   "source": [
    "np.set_printoptions(precision=2, suppress=True)\n",
    "a = np.array([1.123456, 2.345678])\n",
    "print(a)  "
   ]
  },
  {
   "cell_type": "markdown",
   "id": "276188fe-2989-41f0-8b01-3e907c959093",
   "metadata": {},
   "source": [
    "## 6. Advanced Boolean Chaining\n",
    "\n",
    "### Use-case:\n",
    "\n",
    "* Combine multiple conditions with `&` and `|` (**not** `and` or `or`)\n",
    "\n",
    "> Note: Always wrap each condition in parentheses!"
   ]
  },
  {
   "cell_type": "code",
   "execution_count": 22,
   "id": "1c04edee-deb0-4517-b811-4d6d19ea8afc",
   "metadata": {},
   "outputs": [
    {
     "name": "stdout",
     "output_type": "stream",
     "text": [
      "✅ WakaTime heartbeat sent at 1751694141.560534\n",
      "[3 4]\n"
     ]
    }
   ],
   "source": [
    "a = np.array([1, 2, 3, 4, 5])\n",
    "print(a[(a > 2) & (a < 5)]) "
   ]
  },
  {
   "cell_type": "markdown",
   "id": "d5e1100a-ab99-4713-9582-ffddb6f5fadb",
   "metadata": {},
   "source": [
    "## 7. `np.allclose()` and `np.isclose()`\n",
    "\n",
    "### Use-case:\n",
    "\n",
    "* Compare floats with tolerance (avoid precision issues)."
   ]
  },
  {
   "cell_type": "code",
   "execution_count": 23,
   "id": "27117e42-4ae0-4154-baf4-acaafd008190",
   "metadata": {},
   "outputs": [
    {
     "name": "stdout",
     "output_type": "stream",
     "text": [
      "✅ WakaTime heartbeat sent at 1751694141.622537\n",
      "[ True]\n",
      "True\n"
     ]
    }
   ],
   "source": [
    "a = np.array([0.1 + 0.2])\n",
    "b = np.array([0.3])\n",
    "print(np.isclose(a, b))     \n",
    "print(np.allclose(a, b))"
   ]
  },
  {
   "cell_type": "markdown",
   "id": "e0de6be7-2a35-4d58-bd49-0f8737964ae9",
   "metadata": {},
   "source": [
    "## 8. Broadcasting with Dimensions\n",
    "\n",
    "### Use-case:\n",
    "\n",
    "* You can add new axes using `np.newaxis` or `reshape()` to trigger broadcasting."
   ]
  },
  {
   "cell_type": "code",
   "execution_count": 24,
   "id": "2be739ea-f50a-4b25-832c-a759202ffdba",
   "metadata": {},
   "outputs": [
    {
     "name": "stdout",
     "output_type": "stream",
     "text": [
      "✅ WakaTime heartbeat sent at 1751694141.685501\n",
      "[[11 12 13]\n",
      " [21 22 23]]\n"
     ]
    }
   ],
   "source": [
    "a = np.array([1, 2, 3])\n",
    "b = np.array([[10], [20]])\n",
    "print(a + b)"
   ]
  },
  {
   "cell_type": "markdown",
   "id": "a155b1cd-ace6-4e92-ad21-547f73f96271",
   "metadata": {},
   "source": [
    "## 9. Chain of Conditions with `np.where()`\n",
    "\n",
    "### Use-case:\n",
    "\n",
    "* Use `np.where()` with multiple `elif`-like conditions using nested calls."
   ]
  },
  {
   "cell_type": "code",
   "execution_count": 25,
   "id": "19f8249d-0c59-43a3-afa8-42121909a1c8",
   "metadata": {},
   "outputs": [
    {
     "name": "stdout",
     "output_type": "stream",
     "text": [
      "✅ WakaTime heartbeat sent at 1751694141.745535\n",
      "['C' 'B' 'D' 'A']\n"
     ]
    }
   ],
   "source": [
    "a = np.array([70, 85, 60, 95])\n",
    "result = np.where(a >= 90, 'A',\n",
    "         np.where(a >= 80, 'B',\n",
    "         np.where(a >= 70, 'C', 'D')))\n",
    "print(result)  "
   ]
  },
  {
   "cell_type": "markdown",
   "id": "caf355fb-777b-46e1-a335-44a505cd18ce",
   "metadata": {},
   "source": [
    "## 10. Bitwise Ops with Booleans\n",
    "\n",
    "### Use-case:\n",
    "\n",
    "* Logical operations across arrays: `np.logical_and()`, `np.logical_or()`, etc.\n"
   ]
  },
  {
   "cell_type": "code",
   "execution_count": 26,
   "id": "4920416a-d30a-4ca5-a1ff-1839d3b5a9cd",
   "metadata": {},
   "outputs": [
    {
     "name": "stdout",
     "output_type": "stream",
     "text": [
      "✅ WakaTime heartbeat sent at 1751694141.805615\n",
      "[False False  True]\n"
     ]
    }
   ],
   "source": [
    "a = np.array([True, False, True])\n",
    "b = np.array([False, False, True])\n",
    "print(np.logical_and(a, b))  "
   ]
  },
  {
   "cell_type": "markdown",
   "id": "e7c178cc-4b50-46b8-8a60-9afbefb2b268",
   "metadata": {},
   "source": [
    "---\n",
    "\n",
    "# Summary for this Section\n",
    "\n",
    "---\n",
    "\n",
    "| Feature                        | Function(s) / Syntax                       | Description                                                                 |\n",
    "|-------------------------------|--------------------------------------------|-----------------------------------------------------------------------------|\n",
    "| Indexing & Slicing            | `a[i]`, `a[start:stop:step]`               | Access or extract elements using index or slice notation                    |\n",
    "| Boolean Indexing              | `a[condition]`                             | Select elements that satisfy a condition                                   |\n",
    "| Fancy Indexing                | `a[[i1, i2, ...]]`, `a[[rows], [cols]]`    | Use lists or arrays to pick multiple indices                                |\n",
    "| Broadcasting                  | Auto expansion (e.g., `a + b`)             | Apply operations between arrays of different but compatible shapes          |\n",
    "| Arithmetic Ops                | `+`, `-`, `*`, `/`, `**`                   | Element-wise arithmetic                                                     |\n",
    "| Comparison Ops                | `==`, `!=`, `<`, `>`, `<=`, `>=`           | Element-wise comparison (returns boolean array)                             |\n",
    "| Universal Functions (ufuncs)  | `np.sqrt()`, `np.exp()`, `np.log()`, etc.  | Fast element-wise operations                                                |\n",
    "| Aggregation Functions         | `np.sum()`, `np.mean()`, `np.min()`        | Reduces an array to a single value                                          |\n",
    "| Axis-wise Operations          | `np.sum(a, axis=0)`                        | Aggregation along rows or columns                                           |\n",
    "| Conditional Selection         | `np.where(cond, x, y)`                     | Return elements based on condition                                          |\n",
    "| Clipping                      | `np.clip(a, min, max)`                     | Restrict values within [min, max]                                           |\n",
    "| Any / All                     | `np.any(cond)`, `np.all(cond)`             | Check if any/all elements satisfy condition                                 |\n",
    "| Non-zero Index                | `np.nonzero(a)`                            | Return indices of non-zero (or `True`) elements                             |\n",
    "| Count Non-zero                | `np.count_nonzero(a)`                      | Count number of non-zero values                                             |\n",
    "| Unique Elements               | `np.unique(a)`, `return_counts=True`       | Get sorted unique elements and their frequency                              |\n",
    "| Sort Values                   | `np.sort(a)`                               | Return sorted array                                                         |\n",
    "| Sort Indices                  | `np.argsort(a)`                            | Return indices that would sort array                                        |\n",
    "| Max / Min Index               | `np.argmax(a)`, `np.argmin(a)`             | Get index of max or min value                                               |\n",
    "| Precision Display             | `np.set_printoptions()`                    | Format output (e.g., precision, suppress sci. notation)                     |\n",
    "| Multiple Conditions           | `(a > x) & (a < y)`                        | Combine conditions with `&`, `|`, `~`                                       |\n",
    "| Float Comparison              | `np.isclose(a, b)`, `np.allclose()`        | Compare floats with tolerance                                               |\n",
    "| Logical Ops                   | `np.logical_and()`, `np.logical_or()`      | Perform element-wise boolean operations                                     |\n",
    "| Nested Conditions             | `np.where(...np.where(...))`              | Apply multiple conditions using nested `where()`                            |\n"
   ]
  }
 ],
 "metadata": {
  "kernelspec": {
   "display_name": "Python 3 (ipykernel)",
   "language": "python",
   "name": "python3"
  },
  "language_info": {
   "codemirror_mode": {
    "name": "ipython",
    "version": 3
   },
   "file_extension": ".py",
   "mimetype": "text/x-python",
   "name": "python",
   "nbconvert_exporter": "python",
   "pygments_lexer": "ipython3",
   "version": "3.11.13"
  }
 },
 "nbformat": 4,
 "nbformat_minor": 5
}
