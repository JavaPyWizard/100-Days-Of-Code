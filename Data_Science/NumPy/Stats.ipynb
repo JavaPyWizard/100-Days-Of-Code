{
 "cells": [
  {
   "cell_type": "code",
   "execution_count": 1,
   "id": "7ba78768-2d06-417e-9f02-a1a3663bc4c6",
   "metadata": {},
   "outputs": [],
   "source": [
    "import subprocess\n",
    "from datetime import datetime\n",
    "from IPython import get_ipython\n",
    "\n",
    "# --- CONFIGURATION ---\n",
    "NOTEBOOK_NAME = \"Stats.ipynb\"\n",
    "PLUGIN_NAME = \"jupyterlab/4.0.0\"\n",
    "LANGUAGE = \"Python\"\n",
    "# ----------------------\n",
    "\n",
    "def log_to_wakatime():\n",
    "    timestamp = str(datetime.utcnow().timestamp())\n",
    "    result = subprocess.run([\n",
    "        \"wakatime-cli\",\n",
    "        \"--entity\", NOTEBOOK_NAME,\n",
    "        \"--entity-type\", \"file\",\n",
    "        \"--plugin\", PLUGIN_NAME,\n",
    "        \"--language\", LANGUAGE,\n",
    "        \"--write\",\n",
    "        \"--time\", timestamp\n",
    "    ], capture_output=True, text=True)\n",
    "\n",
    "    if result.returncode != 0:\n",
    "        print(\"❌ WakaTime CLI Error:\")\n",
    "        print(\"STDOUT:\", result.stdout)\n",
    "        print(\"STDERR:\", result.stderr)\n",
    "    else:\n",
    "        print(\"✅ WakaTime heartbeat sent at\", timestamp)\n",
    "\n",
    "def on_cell_run(execution_info):\n",
    "    log_to_wakatime()\n",
    "\n",
    "# Clear broken old handlers (if rerunning)\n",
    "ip = get_ipython()\n",
    "for cb in list(ip.events.callbacks['pre_run_cell']):\n",
    "    if cb.__name__ == \"<lambda>\":\n",
    "        ip.events.unregister('pre_run_cell', cb)\n",
    "\n",
    "ip.events.register('pre_run_cell', on_cell_run)"
   ]
  },
  {
   "cell_type": "code",
   "execution_count": 2,
   "id": "77494235-fe12-46e3-b7df-e05fc8b652ef",
   "metadata": {},
   "outputs": [
    {
     "name": "stdout",
     "output_type": "stream",
     "text": [
      "✅ WakaTime heartbeat sent at 1752324034.908053\n"
     ]
    }
   ],
   "source": [
    "import numpy as np"
   ]
  },
  {
   "cell_type": "markdown",
   "id": "7d13f03a-f0b4-4a8a-96ec-4285e8db607f",
   "metadata": {},
   "source": [
    "# Applications & Statistics\n",
    "\n",
    "---\n",
    "\n",
    "## 1. Descriptive Statistics\n",
    "\n",
    "### Functions:\n",
    "\n",
    "| Function          | Description                       |\n",
    "| ----------------- | --------------------------------- |\n",
    "| `np.mean()`       | Arithmetic mean                   |\n",
    "| `np.median()`     | Median value                      |\n",
    "| `np.std()`        | Standard deviation                |\n",
    "| `np.var()`        | Variance                          |\n",
    "| `np.ptp()`        | Peak-to-peak (max - min)          |\n",
    "| `np.percentile()` | Percentile (e.g., 25th, 75th)     |\n",
    "| `np.quantile()`   | Quantile (same as percentile/100) |"
   ]
  },
  {
   "cell_type": "code",
   "execution_count": 3,
   "id": "8ae48af0-4578-450d-984c-224cd4a0b0fe",
   "metadata": {},
   "outputs": [
    {
     "name": "stdout",
     "output_type": "stream",
     "text": [
      "✅ WakaTime heartbeat sent at 1752324034.994851\n",
      "Mean: 32.0\n",
      "Median: 35.0\n",
      "Standard Deviation: 12.884098726725126\n",
      "Variance: 166.0\n",
      "Peak-to-Peak: 35\n",
      "25th Percentile: 20.0\n",
      "0.25 Quantile: 20.0\n"
     ]
    }
   ],
   "source": [
    "data = np.array([15, 20, 35, 40, 50])\n",
    "\n",
    "print(\"Mean:\", np.mean(data))               \n",
    "print(\"Median:\", np.median(data))           \n",
    "print(\"Standard Deviation:\", np.std(data))  \n",
    "print(\"Variance:\", np.var(data))            \n",
    "print(\"Peak-to-Peak:\", np.ptp(data))        \n",
    "print(\"25th Percentile:\", np.percentile(data, 25))\n",
    "print(\"0.25 Quantile:\", np.quantile(data, 0.25))  "
   ]
  },
  {
   "cell_type": "markdown",
   "id": "9a1fce32-f4cc-4f5c-8a68-9d4504a4ac74",
   "metadata": {},
   "source": [
    "## 2. Correlation & Covariance\n",
    "\n",
    "### Functions:\n",
    "\n",
    "| Function        | Description                    |\n",
    "| --------------- | ------------------------------ |\n",
    "| `np.corrcoef()` | Correlation coefficient matrix |\n",
    "| `np.cov()`      | Covariance matrix              |"
   ]
  },
  {
   "cell_type": "code",
   "execution_count": 4,
   "id": "46079013-6f32-4537-b6fa-aad979a724cf",
   "metadata": {},
   "outputs": [
    {
     "name": "stdout",
     "output_type": "stream",
     "text": [
      "✅ WakaTime heartbeat sent at 1752324035.03864\n",
      "Correlation:\n",
      " [[1. 1.]\n",
      " [1. 1.]]\n",
      "Covariance:\n",
      " [[ 2.5  5. ]\n",
      " [ 5.  10. ]]\n"
     ]
    }
   ],
   "source": [
    "x = np.array([1, 2, 3, 4, 5])\n",
    "y = np.array([2, 4, 6, 8, 10])\n",
    "\n",
    "print(\"Correlation:\\n\", np.corrcoef(x, y))  # Perfect correlation (1)\n",
    "print(\"Covariance:\\n\", np.cov(x, y))  "
   ]
  },
  {
   "cell_type": "markdown",
   "id": "f6474088-0a3a-4436-a88b-349a0c9c1370",
   "metadata": {},
   "source": [
    "## 3. Histograms and Binning\n",
    "\n",
    "### Functions:\n",
    "\n",
    "| Function         | Description                       |\n",
    "| ---------------- | --------------------------------- |\n",
    "| `np.histogram()` | Compute histogram (bins + counts) |\n",
    "| `np.bincount()`  | Count occurrences of integers     |\n"
   ]
  },
  {
   "cell_type": "code",
   "execution_count": 5,
   "id": "e427e9d9-bd18-4884-9341-33ff04213f21",
   "metadata": {},
   "outputs": [
    {
     "name": "stdout",
     "output_type": "stream",
     "text": [
      "✅ WakaTime heartbeat sent at 1752324035.081216\n",
      "Histogram counts: [3 3 1]\n",
      "Bin edges: [1.         2.66666667 4.33333333 6.        ]\n",
      "Bin count: [0 2 1 0 3 0 1]\n"
     ]
    }
   ],
   "source": [
    "data = np.array([1, 2, 1, 4, 4, 4, 6])\n",
    "hist, bins = np.histogram(data, bins=3)\n",
    "print(\"Histogram counts:\", hist)\n",
    "print(\"Bin edges:\", bins)\n",
    "\n",
    "# For integer values\n",
    "print(\"Bin count:\", np.bincount(data)) "
   ]
  },
  {
   "cell_type": "markdown",
   "id": "01c4f44f-8cbe-4d2e-8c5d-46a2516b4389",
   "metadata": {},
   "source": [
    "## 4. Differences and Gradient\n",
    "\n",
    "### Functions:\n",
    "\n",
    "| Function        | Description                          |\n",
    "| --------------- | ------------------------------------ |\n",
    "| `np.diff()`     | Discrete difference between elements |\n",
    "| `np.gradient()` | Estimate derivative across array     |"
   ]
  },
  {
   "cell_type": "code",
   "execution_count": 6,
   "id": "c7288471-3c45-4059-bef9-6a66208248e5",
   "metadata": {},
   "outputs": [
    {
     "name": "stdout",
     "output_type": "stream",
     "text": [
      "✅ WakaTime heartbeat sent at 1752324035.12344\n",
      "Diff: [2 3 4]\n",
      "Gradient: [2.  2.5 3.5 4. ]\n"
     ]
    }
   ],
   "source": [
    "arr = np.array([1, 3, 6, 10])\n",
    "print(\"Diff:\", np.diff(arr))         # [2, 3, 4]\n",
    "print(\"Gradient:\", np.gradient(arr)) # [2, 2.5, 3.5, 4]"
   ]
  },
  {
   "cell_type": "markdown",
   "id": "03214a4f-4689-4fd3-8e4d-117ffce6ff90",
   "metadata": {},
   "source": [
    "## 5. Polynomial Fit & Interpolation\n",
    "\n",
    "### Functions:\n",
    "\n",
    "| Function                | Description                      |\n",
    "| ----------------------- | -------------------------------- |\n",
    "| `np.polyfit(x, y, deg)` | Fit a polynomial of given degree |\n",
    "| `np.polyval(p, x)`      | Evaluate polynomial at given x   |\n",
    "| `np.interp(x, xp, fp)`  | Linear interpolation             |"
   ]
  },
  {
   "cell_type": "code",
   "execution_count": 7,
   "id": "8610a3c5-8740-48a0-9f67-c1f928f76b71",
   "metadata": {},
   "outputs": [
    {
     "name": "stdout",
     "output_type": "stream",
     "text": [
      "✅ WakaTime heartbeat sent at 1752324035.165608\n",
      "Polynomial Coefficients: [1. 1. 1.]\n",
      "Evaluate at x=4: 20.999999999999996\n",
      "Interpolated value at 2.5: 7.5\n"
     ]
    }
   ],
   "source": [
    "x = np.array([0, 1, 2, 3])\n",
    "y = np.array([1, 3, 7, 13])\n",
    "\n",
    "p = np.polyfit(x, y, deg=2)\n",
    "print(\"Polynomial Coefficients:\", p)\n",
    "\n",
    "print(\"Evaluate at x=4:\", np.polyval(p, 4))\n",
    "\n",
    "# Interpolation\n",
    "xp = [1, 2, 3]\n",
    "fp = [3, 6, 9]\n",
    "print(\"Interpolated value at 2.5:\", np.interp(2.5, xp, fp))  # 7.5"
   ]
  },
  {
   "cell_type": "markdown",
   "id": "05c40373-22ca-43c2-829d-b4991b3915da",
   "metadata": {},
   "source": [
    "## 6. Statistical Simulations\n",
    "\n",
    "### Use `np.random` for:\n",
    "\n",
    "* Dice simulation\n",
    "* Coin toss\n",
    "* Normal, binomial, uniform distributions"
   ]
  },
  {
   "cell_type": "code",
   "execution_count": 8,
   "id": "8ce50835-1a0e-486c-b7ae-24aa1b74a104",
   "metadata": {},
   "outputs": [
    {
     "name": "stdout",
     "output_type": "stream",
     "text": [
      "✅ WakaTime heartbeat sent at 1752324035.207855\n",
      "Dice rolls: [5 1 3 4 4 3 4 6 4 3]\n",
      "Mean Marks: 69.91901660475418\n",
      "Coin tosses: [1 0 0 1 1 1 0 1 1 0]\n"
     ]
    }
   ],
   "source": [
    "# Dice rolls\n",
    "print(\"Dice rolls:\", np.random.randint(1, 7, size=10))\n",
    "\n",
    "# Simulating exam marks (normal dist)\n",
    "marks = np.random.normal(loc=70, scale=10, size=100)\n",
    "print(\"Mean Marks:\", np.mean(marks))\n",
    "\n",
    "# Simulating coin toss (0 = Heads, 1 = Tails)\n",
    "print(\"Coin tosses:\", np.random.randint(0, 2, size=10))"
   ]
  },
  {
   "cell_type": "markdown",
   "id": "60d965aa-6f6f-4431-af0c-af8c24adc3a0",
   "metadata": {},
   "source": [
    "## Mini Problems\n",
    "\n",
    "### 1. Exam Scores Analysis\n"
   ]
  },
  {
   "cell_type": "code",
   "execution_count": 9,
   "id": "c1270e17-a756-49b6-9438-83d48f65ac5b",
   "metadata": {},
   "outputs": [
    {
     "name": "stdout",
     "output_type": "stream",
     "text": [
      "✅ WakaTime heartbeat sent at 1752324035.266366\n",
      "Mean: 48.96\n",
      "Pass %: 62\n",
      "Top 10 scores: [92 92 92 93 94 96 96 96 96 99]\n"
     ]
    }
   ],
   "source": [
    "scores = np.random.randint(0, 101, 100)\n",
    "print(\"Mean:\", np.mean(scores))\n",
    "print(\"Pass %:\", np.count_nonzero(scores >= 40))\n",
    "print(\"Top 10 scores:\", np.sort(scores)[-10:])"
   ]
  },
  {
   "cell_type": "markdown",
   "id": "0d7d3382-9ee6-4607-9699-01441fe30ae6",
   "metadata": {},
   "source": [
    "### 2. Rainfall Trend"
   ]
  },
  {
   "cell_type": "code",
   "execution_count": 10,
   "id": "255ade3c-7a9e-4b9f-8064-01d2b97c09dd",
   "metadata": {},
   "outputs": [
    {
     "name": "stdout",
     "output_type": "stream",
     "text": [
      "✅ WakaTime heartbeat sent at 1752324035.314175\n",
      "Monthly Average: 109.15399208312674\n",
      "Max Rainfall: 190.1934528586119\n",
      "Rainfall Increase: [  9.01632828 -69.09353629  55.0954299   40.13242707 -42.61307954\n",
      "   5.15679517 -36.5833598   68.83930076 -39.84803673  96.39143296\n",
      " -58.04001591]\n"
     ]
    }
   ],
   "source": [
    "rainfall = np.random.normal(100, 30, 12)\n",
    "print(\"Monthly Average:\", np.mean(rainfall))\n",
    "print(\"Max Rainfall:\", np.max(rainfall))\n",
    "print(\"Rainfall Increase:\", np.diff(rainfall))"
   ]
  }
 ],
 "metadata": {
  "kernelspec": {
   "display_name": "Python 3 (ipykernel)",
   "language": "python",
   "name": "python3"
  },
  "language_info": {
   "codemirror_mode": {
    "name": "ipython",
    "version": 3
   },
   "file_extension": ".py",
   "mimetype": "text/x-python",
   "name": "python",
   "nbconvert_exporter": "python",
   "pygments_lexer": "ipython3",
   "version": "3.11.13"
  }
 },
 "nbformat": 4,
 "nbformat_minor": 5
}
